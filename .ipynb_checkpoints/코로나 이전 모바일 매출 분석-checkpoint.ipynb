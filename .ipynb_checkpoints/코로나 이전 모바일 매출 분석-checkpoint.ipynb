{
 "cells": [
  {
   "cell_type": "code",
   "execution_count": 1,
   "id": "0de82e94",
   "metadata": {},
   "outputs": [],
   "source": [
    "import numpy as np\n",
    "import pandas as pd\n",
    "import matplotlib.pyplot as plt\n",
    "import seaborn as sns\n",
    "import matplotlib.pyplot as plt\n",
    "\n",
    "import warnings\n",
    "warnings.filterwarnings(action=\"ignore\")\n",
    "\n",
    "import matplotlib.font_manager as fm\n",
    "font_name = fm.FontProperties(fname=\"C:/Windows/Fonts/malgun.ttf\").get_name()\n",
    "plt.rc(\"font\", family=font_name)\n",
    "\n",
    "import matplotlib as mpl\n",
    "mpl.rcParams[\"axes.unicode_minus\"] = False\n",
    "\n",
    "\n",
    "import urllib.request as req\n",
    "from urllib.request import urlopen\n",
    "from urllib.error import HTTPError,URLError\n",
    "import urllib.parse\n",
    "from bs4 import BeautifulSoup\n",
    "import requests\n"
   ]
  },
  {
   "cell_type": "code",
   "execution_count": 3,
   "id": "9cdafeea",
   "metadata": {},
   "outputs": [],
   "source": [
    "result_corona = pd.read_csv(\"checkpoint/result_checkpoint.csv\", thousands = \",\", index_col = 0)\n",
    "result_corona\n",
    "\n",
    "\n",
    "result_corona.index_names = [\"분기\"]"
   ]
  },
  {
   "cell_type": "code",
   "execution_count": 4,
   "id": "8d6eab8e",
   "metadata": {},
   "outputs": [
    {
     "data": {
      "text/html": [
       "<div>\n",
       "<style scoped>\n",
       "    .dataframe tbody tr th:only-of-type {\n",
       "        vertical-align: middle;\n",
       "    }\n",
       "\n",
       "    .dataframe tbody tr th {\n",
       "        vertical-align: top;\n",
       "    }\n",
       "\n",
       "    .dataframe thead th {\n",
       "        text-align: right;\n",
       "    }\n",
       "</style>\n",
       "<table border=\"1\" class=\"dataframe\">\n",
       "  <thead>\n",
       "    <tr style=\"text-align: right;\">\n",
       "      <th></th>\n",
       "      <th>3사 Mobile 매출</th>\n",
       "      <th>3사 PC매출</th>\n",
       "      <th>평균기온(°C)</th>\n",
       "      <th>마케팅 비용</th>\n",
       "      <th>게임시장 규모</th>\n",
       "    </tr>\n",
       "  </thead>\n",
       "  <tbody>\n",
       "    <tr>\n",
       "      <th>1Q2017</th>\n",
       "      <td>1.907603e+11</td>\n",
       "      <td>9.447470e+11</td>\n",
       "      <td>2.744561</td>\n",
       "      <td>1.858444e+11</td>\n",
       "      <td>2.049056e+12</td>\n",
       "    </tr>\n",
       "    <tr>\n",
       "      <th>2Q2017</th>\n",
       "      <td>5.611863e+11</td>\n",
       "      <td>7.456180e+11</td>\n",
       "      <td>17.886667</td>\n",
       "      <td>2.045050e+11</td>\n",
       "      <td>1.458523e+12</td>\n",
       "    </tr>\n",
       "    <tr>\n",
       "      <th>3Q2017</th>\n",
       "      <td>9.005560e+11</td>\n",
       "      <td>9.349635e+11</td>\n",
       "      <td>24.000000</td>\n",
       "      <td>2.372769e+11</td>\n",
       "      <td>2.051440e+12</td>\n",
       "    </tr>\n",
       "    <tr>\n",
       "      <th>4Q2017</th>\n",
       "      <td>8.958130e+11</td>\n",
       "      <td>7.834570e+11</td>\n",
       "      <td>7.394386</td>\n",
       "      <td>2.862413e+11</td>\n",
       "      <td>1.836915e+12</td>\n",
       "    </tr>\n",
       "    <tr>\n",
       "      <th>1Q2018</th>\n",
       "      <td>7.269950e+11</td>\n",
       "      <td>7.692030e+11</td>\n",
       "      <td>2.030175</td>\n",
       "      <td>2.416348e+11</td>\n",
       "      <td>2.473959e+12</td>\n",
       "    </tr>\n",
       "    <tr>\n",
       "      <th>2Q2018</th>\n",
       "      <td>5.324043e+11</td>\n",
       "      <td>7.308540e+11</td>\n",
       "      <td>17.555088</td>\n",
       "      <td>2.368410e+11</td>\n",
       "      <td>1.727453e+12</td>\n",
       "    </tr>\n",
       "    <tr>\n",
       "      <th>3Q2018</th>\n",
       "      <td>5.921097e+11</td>\n",
       "      <td>1.092198e+12</td>\n",
       "      <td>24.640351</td>\n",
       "      <td>2.473202e+11</td>\n",
       "      <td>1.923482e+12</td>\n",
       "    </tr>\n",
       "    <tr>\n",
       "      <th>4Q2018</th>\n",
       "      <td>5.627087e+11</td>\n",
       "      <td>7.497090e+11</td>\n",
       "      <td>7.538947</td>\n",
       "      <td>2.762086e+11</td>\n",
       "      <td>1.899634e+12</td>\n",
       "    </tr>\n",
       "    <tr>\n",
       "      <th>1Q2019</th>\n",
       "      <td>3.239240e+11</td>\n",
       "      <td>9.549040e+11</td>\n",
       "      <td>3.451228</td>\n",
       "      <td>2.448007e+11</td>\n",
       "      <td>2.228777e+12</td>\n",
       "    </tr>\n",
       "    <tr>\n",
       "      <th>2Q2019</th>\n",
       "      <td>3.402707e+11</td>\n",
       "      <td>8.318520e+11</td>\n",
       "      <td>17.073776</td>\n",
       "      <td>2.597875e+11</td>\n",
       "      <td>1.858589e+12</td>\n",
       "    </tr>\n",
       "    <tr>\n",
       "      <th>3Q2019</th>\n",
       "      <td>3.123433e+11</td>\n",
       "      <td>1.105410e+12</td>\n",
       "      <td>24.010140</td>\n",
       "      <td>2.346793e+11</td>\n",
       "      <td>1.889315e+12</td>\n",
       "    </tr>\n",
       "    <tr>\n",
       "      <th>4Q2019</th>\n",
       "      <td>4.391200e+11</td>\n",
       "      <td>9.208410e+11</td>\n",
       "      <td>9.167368</td>\n",
       "      <td>2.820933e+11</td>\n",
       "      <td>1.970767e+12</td>\n",
       "    </tr>\n",
       "    <tr>\n",
       "      <th>1Q2020</th>\n",
       "      <td>1.048860e+12</td>\n",
       "      <td>1.593336e+12</td>\n",
       "      <td>4.849123</td>\n",
       "      <td>2.347716e+11</td>\n",
       "      <td>2.442203e+12</td>\n",
       "    </tr>\n",
       "    <tr>\n",
       "      <th>2Q2020</th>\n",
       "      <td>8.875083e+11</td>\n",
       "      <td>1.240709e+12</td>\n",
       "      <td>16.954737</td>\n",
       "      <td>2.838224e+11</td>\n",
       "      <td>2.261376e+12</td>\n",
       "    </tr>\n",
       "    <tr>\n",
       "      <th>3Q2020</th>\n",
       "      <td>1.356090e+12</td>\n",
       "      <td>1.453089e+12</td>\n",
       "      <td>23.112281</td>\n",
       "      <td>3.233597e+11</td>\n",
       "      <td>2.481031e+12</td>\n",
       "    </tr>\n",
       "    <tr>\n",
       "      <th>4Q2020</th>\n",
       "      <td>1.161611e+12</td>\n",
       "      <td>1.306676e+12</td>\n",
       "      <td>7.912281</td>\n",
       "      <td>3.749360e+11</td>\n",
       "      <td>2.317881e+12</td>\n",
       "    </tr>\n",
       "    <tr>\n",
       "      <th>1Q2021</th>\n",
       "      <td>9.742760e+11</td>\n",
       "      <td>1.815808e+12</td>\n",
       "      <td>4.052632</td>\n",
       "      <td>2.914224e+11</td>\n",
       "      <td>2.525152e+12</td>\n",
       "    </tr>\n",
       "    <tr>\n",
       "      <th>2Q2021</th>\n",
       "      <td>8.964657e+11</td>\n",
       "      <td>1.166518e+12</td>\n",
       "      <td>17.236268</td>\n",
       "      <td>3.873891e+11</td>\n",
       "      <td>2.181218e+12</td>\n",
       "    </tr>\n",
       "    <tr>\n",
       "      <th>3Q2021</th>\n",
       "      <td>8.974830e+11</td>\n",
       "      <td>1.553097e+12</td>\n",
       "      <td>24.183158</td>\n",
       "      <td>4.316472e+11</td>\n",
       "      <td>2.669047e+12</td>\n",
       "    </tr>\n",
       "  </tbody>\n",
       "</table>\n",
       "</div>"
      ],
      "text/plain": [
       "        3사 Mobile 매출       3사 PC매출   평균기온(°C)        마케팅 비용       게임시장 규모\n",
       "1Q2017  1.907603e+11  9.447470e+11   2.744561  1.858444e+11  2.049056e+12\n",
       "2Q2017  5.611863e+11  7.456180e+11  17.886667  2.045050e+11  1.458523e+12\n",
       "3Q2017  9.005560e+11  9.349635e+11  24.000000  2.372769e+11  2.051440e+12\n",
       "4Q2017  8.958130e+11  7.834570e+11   7.394386  2.862413e+11  1.836915e+12\n",
       "1Q2018  7.269950e+11  7.692030e+11   2.030175  2.416348e+11  2.473959e+12\n",
       "2Q2018  5.324043e+11  7.308540e+11  17.555088  2.368410e+11  1.727453e+12\n",
       "3Q2018  5.921097e+11  1.092198e+12  24.640351  2.473202e+11  1.923482e+12\n",
       "4Q2018  5.627087e+11  7.497090e+11   7.538947  2.762086e+11  1.899634e+12\n",
       "1Q2019  3.239240e+11  9.549040e+11   3.451228  2.448007e+11  2.228777e+12\n",
       "2Q2019  3.402707e+11  8.318520e+11  17.073776  2.597875e+11  1.858589e+12\n",
       "3Q2019  3.123433e+11  1.105410e+12  24.010140  2.346793e+11  1.889315e+12\n",
       "4Q2019  4.391200e+11  9.208410e+11   9.167368  2.820933e+11  1.970767e+12\n",
       "1Q2020  1.048860e+12  1.593336e+12   4.849123  2.347716e+11  2.442203e+12\n",
       "2Q2020  8.875083e+11  1.240709e+12  16.954737  2.838224e+11  2.261376e+12\n",
       "3Q2020  1.356090e+12  1.453089e+12  23.112281  3.233597e+11  2.481031e+12\n",
       "4Q2020  1.161611e+12  1.306676e+12   7.912281  3.749360e+11  2.317881e+12\n",
       "1Q2021  9.742760e+11  1.815808e+12   4.052632  2.914224e+11  2.525152e+12\n",
       "2Q2021  8.964657e+11  1.166518e+12  17.236268  3.873891e+11  2.181218e+12\n",
       "3Q2021  8.974830e+11  1.553097e+12  24.183158  4.316472e+11  2.669047e+12"
      ]
     },
     "execution_count": 4,
     "metadata": {},
     "output_type": "execute_result"
    }
   ],
   "source": [
    "result_corona"
   ]
  },
  {
   "cell_type": "code",
   "execution_count": 5,
   "id": "744f3494",
   "metadata": {},
   "outputs": [],
   "source": [
    "##### 기온 데이터 제외\n",
    "\n",
    "df = result_corona.loc[:, (\"3사 Mobile 매출\", \"3사 PC매출\", \"마케팅 비용\", \"게임시장 규모\")]"
   ]
  },
  {
   "cell_type": "code",
   "execution_count": 8,
   "id": "d35d3d46",
   "metadata": {},
   "outputs": [
    {
     "name": "stdout",
     "output_type": "stream",
     "text": [
      "변수들의 평균: \n",
      " 3사 Mobile 매출    7.158151e+11\n",
      "3사 PC매출         1.089105e+12\n",
      "마케팅 비용          2.770832e+11\n",
      "게임시장 규모         2.118201e+12\n",
      "dtype: float64\n",
      "-----------------------------------------------------\n",
      "변수들의 분산: \n",
      " 3사 Mobile 매출    1.030064e+23\n",
      "3사 PC매출         1.067269e+23\n",
      "마케팅 비용          4.000171e+21\n",
      "게임시장 규모         1.006792e+23\n",
      "dtype: float64\n"
     ]
    }
   ],
   "source": [
    "print(\"변수들의 평균: \\n\", df.mean())\n",
    "print(\"-----------------------------------------------------\")\n",
    "print(\"변수들의 분산: \\n\", df.var())        # 분산에 마케팅비용 이상치 -> 표준화 필요"
   ]
  },
  {
   "cell_type": "code",
   "execution_count": 9,
   "id": "b892d418",
   "metadata": {},
   "outputs": [
    {
     "name": "stdout",
     "output_type": "stream",
     "text": [
      "변수들의 최솟값: \n",
      " 3사 Mobile 매출    1.907603e+11\n",
      "3사 PC매출         7.308540e+11\n",
      "마케팅 비용          1.858444e+11\n",
      "게임시장 규모         1.458523e+12\n",
      "dtype: float64\n",
      "-----------------------------------------------------\n",
      "변수들의 최댓값: \n",
      " 3사 Mobile 매출    1.356090e+12\n",
      "3사 PC매출         1.815808e+12\n",
      "마케팅 비용          4.316472e+11\n",
      "게임시장 규모         2.669047e+12\n",
      "dtype: float64\n"
     ]
    }
   ],
   "source": [
    "print(\"변수들의 최솟값: \\n\", df.min())\n",
    "print(\"-----------------------------------------------------\")\n",
    "print(\"변수들의 최댓값: \\n\", df.max())"
   ]
  },
  {
   "cell_type": "markdown",
   "id": "b045723e",
   "metadata": {},
   "source": [
    "### 정규화"
   ]
  },
  {
   "cell_type": "code",
   "execution_count": 6,
   "id": "88489ee4",
   "metadata": {},
   "outputs": [
    {
     "name": "stdout",
     "output_type": "stream",
     "text": [
      "변수들의 최솟값: \n",
      " 3사 Mobile 매출    0.0\n",
      "3사 PC매출         0.0\n",
      "마케팅 비용          0.0\n",
      "게임시장 규모         0.0\n",
      "dtype: float64\n",
      "-----------------------------------------------------\n",
      "변수들의 최댓값: \n",
      " 3사 Mobile 매출    1.0\n",
      "3사 PC매출         1.0\n",
      "마케팅 비용          1.0\n",
      "게임시장 규모         1.0\n",
      "dtype: float64\n"
     ]
    }
   ],
   "source": [
    "from sklearn.preprocessing import MinMaxScaler         \n",
    "\n",
    "scaler = MinMaxScaler()\n",
    "scaler.fit(df)\n",
    "result_scaled = scaler.transform(df)\n",
    "\n",
    "df_normed = pd.DataFrame(data = result_scaled, columns = df.columns)\n",
    "\n",
    "print(\"변수들의 최솟값: \\n\", df_normed.min())\n",
    "print(\"-----------------------------------------------------\")\n",
    "print(\"변수들의 최댓값: \\n\", df_normed.max())\n",
    "\n",
    "# 최솟값과 최댓값의 격차가 줄어들었다."
   ]
  },
  {
   "cell_type": "code",
   "execution_count": 11,
   "id": "08208eb0",
   "metadata": {},
   "outputs": [
    {
     "data": {
      "text/html": [
       "<div>\n",
       "<style scoped>\n",
       "    .dataframe tbody tr th:only-of-type {\n",
       "        vertical-align: middle;\n",
       "    }\n",
       "\n",
       "    .dataframe tbody tr th {\n",
       "        vertical-align: top;\n",
       "    }\n",
       "\n",
       "    .dataframe thead th {\n",
       "        text-align: right;\n",
       "    }\n",
       "</style>\n",
       "<table border=\"1\" class=\"dataframe\">\n",
       "  <thead>\n",
       "    <tr style=\"text-align: right;\">\n",
       "      <th></th>\n",
       "      <th>3사 Mobile 매출</th>\n",
       "      <th>3사 PC매출</th>\n",
       "      <th>마케팅 비용</th>\n",
       "      <th>게임시장 규모</th>\n",
       "    </tr>\n",
       "  </thead>\n",
       "  <tbody>\n",
       "    <tr>\n",
       "      <th>0</th>\n",
       "      <td>0.000000</td>\n",
       "      <td>0.197145</td>\n",
       "      <td>0.000000</td>\n",
       "      <td>0.487832</td>\n",
       "    </tr>\n",
       "    <tr>\n",
       "      <th>1</th>\n",
       "      <td>0.317872</td>\n",
       "      <td>0.013608</td>\n",
       "      <td>0.075917</td>\n",
       "      <td>0.000000</td>\n",
       "    </tr>\n",
       "    <tr>\n",
       "      <th>2</th>\n",
       "      <td>0.609094</td>\n",
       "      <td>0.188127</td>\n",
       "      <td>0.209243</td>\n",
       "      <td>0.489802</td>\n",
       "    </tr>\n",
       "    <tr>\n",
       "      <th>3</th>\n",
       "      <td>0.605024</td>\n",
       "      <td>0.048484</td>\n",
       "      <td>0.408445</td>\n",
       "      <td>0.312585</td>\n",
       "    </tr>\n",
       "    <tr>\n",
       "      <th>4</th>\n",
       "      <td>0.460157</td>\n",
       "      <td>0.035346</td>\n",
       "      <td>0.226972</td>\n",
       "      <td>0.838839</td>\n",
       "    </tr>\n",
       "    <tr>\n",
       "      <th>5</th>\n",
       "      <td>0.293174</td>\n",
       "      <td>0.000000</td>\n",
       "      <td>0.207470</td>\n",
       "      <td>0.222160</td>\n",
       "    </tr>\n",
       "    <tr>\n",
       "      <th>6</th>\n",
       "      <td>0.344408</td>\n",
       "      <td>0.333050</td>\n",
       "      <td>0.250102</td>\n",
       "      <td>0.384097</td>\n",
       "    </tr>\n",
       "    <tr>\n",
       "      <th>7</th>\n",
       "      <td>0.319179</td>\n",
       "      <td>0.017379</td>\n",
       "      <td>0.367629</td>\n",
       "      <td>0.364396</td>\n",
       "    </tr>\n",
       "    <tr>\n",
       "      <th>8</th>\n",
       "      <td>0.114271</td>\n",
       "      <td>0.206506</td>\n",
       "      <td>0.239852</td>\n",
       "      <td>0.636297</td>\n",
       "    </tr>\n",
       "    <tr>\n",
       "      <th>9</th>\n",
       "      <td>0.128299</td>\n",
       "      <td>0.093090</td>\n",
       "      <td>0.300823</td>\n",
       "      <td>0.330489</td>\n",
       "    </tr>\n",
       "    <tr>\n",
       "      <th>10</th>\n",
       "      <td>0.104334</td>\n",
       "      <td>0.345228</td>\n",
       "      <td>0.198675</td>\n",
       "      <td>0.355872</td>\n",
       "    </tr>\n",
       "    <tr>\n",
       "      <th>11</th>\n",
       "      <td>0.213124</td>\n",
       "      <td>0.175111</td>\n",
       "      <td>0.391570</td>\n",
       "      <td>0.423159</td>\n",
       "    </tr>\n",
       "    <tr>\n",
       "      <th>12</th>\n",
       "      <td>0.736358</td>\n",
       "      <td>0.794948</td>\n",
       "      <td>0.199051</td>\n",
       "      <td>0.812606</td>\n",
       "    </tr>\n",
       "    <tr>\n",
       "      <th>13</th>\n",
       "      <td>0.597898</td>\n",
       "      <td>0.469932</td>\n",
       "      <td>0.398604</td>\n",
       "      <td>0.663227</td>\n",
       "    </tr>\n",
       "    <tr>\n",
       "      <th>14</th>\n",
       "      <td>1.000000</td>\n",
       "      <td>0.665683</td>\n",
       "      <td>0.559454</td>\n",
       "      <td>0.844682</td>\n",
       "    </tr>\n",
       "    <tr>\n",
       "      <th>15</th>\n",
       "      <td>0.833112</td>\n",
       "      <td>0.530734</td>\n",
       "      <td>0.769282</td>\n",
       "      <td>0.709905</td>\n",
       "    </tr>\n",
       "    <tr>\n",
       "      <th>16</th>\n",
       "      <td>0.672355</td>\n",
       "      <td>1.000000</td>\n",
       "      <td>0.429523</td>\n",
       "      <td>0.881130</td>\n",
       "    </tr>\n",
       "    <tr>\n",
       "      <th>17</th>\n",
       "      <td>0.605584</td>\n",
       "      <td>0.401551</td>\n",
       "      <td>0.819945</td>\n",
       "      <td>0.597010</td>\n",
       "    </tr>\n",
       "    <tr>\n",
       "      <th>18</th>\n",
       "      <td>0.606457</td>\n",
       "      <td>0.757860</td>\n",
       "      <td>1.000000</td>\n",
       "      <td>1.000000</td>\n",
       "    </tr>\n",
       "  </tbody>\n",
       "</table>\n",
       "</div>"
      ],
      "text/plain": [
       "    3사 Mobile 매출   3사 PC매출    마케팅 비용   게임시장 규모\n",
       "0       0.000000  0.197145  0.000000  0.487832\n",
       "1       0.317872  0.013608  0.075917  0.000000\n",
       "2       0.609094  0.188127  0.209243  0.489802\n",
       "3       0.605024  0.048484  0.408445  0.312585\n",
       "4       0.460157  0.035346  0.226972  0.838839\n",
       "5       0.293174  0.000000  0.207470  0.222160\n",
       "6       0.344408  0.333050  0.250102  0.384097\n",
       "7       0.319179  0.017379  0.367629  0.364396\n",
       "8       0.114271  0.206506  0.239852  0.636297\n",
       "9       0.128299  0.093090  0.300823  0.330489\n",
       "10      0.104334  0.345228  0.198675  0.355872\n",
       "11      0.213124  0.175111  0.391570  0.423159\n",
       "12      0.736358  0.794948  0.199051  0.812606\n",
       "13      0.597898  0.469932  0.398604  0.663227\n",
       "14      1.000000  0.665683  0.559454  0.844682\n",
       "15      0.833112  0.530734  0.769282  0.709905\n",
       "16      0.672355  1.000000  0.429523  0.881130\n",
       "17      0.605584  0.401551  0.819945  0.597010\n",
       "18      0.606457  0.757860  1.000000  1.000000"
      ]
     },
     "execution_count": 11,
     "metadata": {},
     "output_type": "execute_result"
    }
   ],
   "source": [
    "df_normed"
   ]
  },
  {
   "cell_type": "markdown",
   "id": "9bcac41d",
   "metadata": {},
   "source": [
    "### 코로나 이전 모바일 매출액 "
   ]
  },
  {
   "cell_type": "code",
   "execution_count": 7,
   "id": "72e10409",
   "metadata": {},
   "outputs": [],
   "source": [
    "df_normed.index=['1Q2017','2Q2017','3Q2017','4Q2017','1Q2018','2Q2018','3Q2018','4Q2018','1Q2019','2Q2019','3Q2019','4Q2019','1Q2020','2Q2020','3Q2020','4Q2020','1Q2021','2Q2021','3Q2021']"
   ]
  },
  {
   "cell_type": "code",
   "execution_count": 8,
   "id": "94a5e7f4",
   "metadata": {},
   "outputs": [
    {
     "data": {
      "text/html": [
       "<div>\n",
       "<style scoped>\n",
       "    .dataframe tbody tr th:only-of-type {\n",
       "        vertical-align: middle;\n",
       "    }\n",
       "\n",
       "    .dataframe tbody tr th {\n",
       "        vertical-align: top;\n",
       "    }\n",
       "\n",
       "    .dataframe thead th {\n",
       "        text-align: right;\n",
       "    }\n",
       "</style>\n",
       "<table border=\"1\" class=\"dataframe\">\n",
       "  <thead>\n",
       "    <tr style=\"text-align: right;\">\n",
       "      <th></th>\n",
       "      <th>3사 Mobile 매출</th>\n",
       "      <th>3사 PC매출</th>\n",
       "      <th>마케팅 비용</th>\n",
       "      <th>게임시장 규모</th>\n",
       "    </tr>\n",
       "  </thead>\n",
       "  <tbody>\n",
       "    <tr>\n",
       "      <th>1Q2017</th>\n",
       "      <td>0.000000</td>\n",
       "      <td>0.197145</td>\n",
       "      <td>0.000000</td>\n",
       "      <td>0.487832</td>\n",
       "    </tr>\n",
       "    <tr>\n",
       "      <th>2Q2017</th>\n",
       "      <td>0.317872</td>\n",
       "      <td>0.013608</td>\n",
       "      <td>0.075917</td>\n",
       "      <td>0.000000</td>\n",
       "    </tr>\n",
       "    <tr>\n",
       "      <th>3Q2017</th>\n",
       "      <td>0.609094</td>\n",
       "      <td>0.188127</td>\n",
       "      <td>0.209243</td>\n",
       "      <td>0.489802</td>\n",
       "    </tr>\n",
       "    <tr>\n",
       "      <th>4Q2017</th>\n",
       "      <td>0.605024</td>\n",
       "      <td>0.048484</td>\n",
       "      <td>0.408445</td>\n",
       "      <td>0.312585</td>\n",
       "    </tr>\n",
       "    <tr>\n",
       "      <th>1Q2018</th>\n",
       "      <td>0.460157</td>\n",
       "      <td>0.035346</td>\n",
       "      <td>0.226972</td>\n",
       "      <td>0.838839</td>\n",
       "    </tr>\n",
       "    <tr>\n",
       "      <th>2Q2018</th>\n",
       "      <td>0.293174</td>\n",
       "      <td>0.000000</td>\n",
       "      <td>0.207470</td>\n",
       "      <td>0.222160</td>\n",
       "    </tr>\n",
       "    <tr>\n",
       "      <th>3Q2018</th>\n",
       "      <td>0.344408</td>\n",
       "      <td>0.333050</td>\n",
       "      <td>0.250102</td>\n",
       "      <td>0.384097</td>\n",
       "    </tr>\n",
       "    <tr>\n",
       "      <th>4Q2018</th>\n",
       "      <td>0.319179</td>\n",
       "      <td>0.017379</td>\n",
       "      <td>0.367629</td>\n",
       "      <td>0.364396</td>\n",
       "    </tr>\n",
       "    <tr>\n",
       "      <th>1Q2019</th>\n",
       "      <td>0.114271</td>\n",
       "      <td>0.206506</td>\n",
       "      <td>0.239852</td>\n",
       "      <td>0.636297</td>\n",
       "    </tr>\n",
       "    <tr>\n",
       "      <th>2Q2019</th>\n",
       "      <td>0.128299</td>\n",
       "      <td>0.093090</td>\n",
       "      <td>0.300823</td>\n",
       "      <td>0.330489</td>\n",
       "    </tr>\n",
       "    <tr>\n",
       "      <th>3Q2019</th>\n",
       "      <td>0.104334</td>\n",
       "      <td>0.345228</td>\n",
       "      <td>0.198675</td>\n",
       "      <td>0.355872</td>\n",
       "    </tr>\n",
       "    <tr>\n",
       "      <th>4Q2019</th>\n",
       "      <td>0.213124</td>\n",
       "      <td>0.175111</td>\n",
       "      <td>0.391570</td>\n",
       "      <td>0.423159</td>\n",
       "    </tr>\n",
       "    <tr>\n",
       "      <th>1Q2020</th>\n",
       "      <td>0.736358</td>\n",
       "      <td>0.794948</td>\n",
       "      <td>0.199051</td>\n",
       "      <td>0.812606</td>\n",
       "    </tr>\n",
       "    <tr>\n",
       "      <th>2Q2020</th>\n",
       "      <td>0.597898</td>\n",
       "      <td>0.469932</td>\n",
       "      <td>0.398604</td>\n",
       "      <td>0.663227</td>\n",
       "    </tr>\n",
       "    <tr>\n",
       "      <th>3Q2020</th>\n",
       "      <td>1.000000</td>\n",
       "      <td>0.665683</td>\n",
       "      <td>0.559454</td>\n",
       "      <td>0.844682</td>\n",
       "    </tr>\n",
       "    <tr>\n",
       "      <th>4Q2020</th>\n",
       "      <td>0.833112</td>\n",
       "      <td>0.530734</td>\n",
       "      <td>0.769282</td>\n",
       "      <td>0.709905</td>\n",
       "    </tr>\n",
       "    <tr>\n",
       "      <th>1Q2021</th>\n",
       "      <td>0.672355</td>\n",
       "      <td>1.000000</td>\n",
       "      <td>0.429523</td>\n",
       "      <td>0.881130</td>\n",
       "    </tr>\n",
       "    <tr>\n",
       "      <th>2Q2021</th>\n",
       "      <td>0.605584</td>\n",
       "      <td>0.401551</td>\n",
       "      <td>0.819945</td>\n",
       "      <td>0.597010</td>\n",
       "    </tr>\n",
       "    <tr>\n",
       "      <th>3Q2021</th>\n",
       "      <td>0.606457</td>\n",
       "      <td>0.757860</td>\n",
       "      <td>1.000000</td>\n",
       "      <td>1.000000</td>\n",
       "    </tr>\n",
       "  </tbody>\n",
       "</table>\n",
       "</div>"
      ],
      "text/plain": [
       "        3사 Mobile 매출   3사 PC매출    마케팅 비용   게임시장 규모\n",
       "1Q2017      0.000000  0.197145  0.000000  0.487832\n",
       "2Q2017      0.317872  0.013608  0.075917  0.000000\n",
       "3Q2017      0.609094  0.188127  0.209243  0.489802\n",
       "4Q2017      0.605024  0.048484  0.408445  0.312585\n",
       "1Q2018      0.460157  0.035346  0.226972  0.838839\n",
       "2Q2018      0.293174  0.000000  0.207470  0.222160\n",
       "3Q2018      0.344408  0.333050  0.250102  0.384097\n",
       "4Q2018      0.319179  0.017379  0.367629  0.364396\n",
       "1Q2019      0.114271  0.206506  0.239852  0.636297\n",
       "2Q2019      0.128299  0.093090  0.300823  0.330489\n",
       "3Q2019      0.104334  0.345228  0.198675  0.355872\n",
       "4Q2019      0.213124  0.175111  0.391570  0.423159\n",
       "1Q2020      0.736358  0.794948  0.199051  0.812606\n",
       "2Q2020      0.597898  0.469932  0.398604  0.663227\n",
       "3Q2020      1.000000  0.665683  0.559454  0.844682\n",
       "4Q2020      0.833112  0.530734  0.769282  0.709905\n",
       "1Q2021      0.672355  1.000000  0.429523  0.881130\n",
       "2Q2021      0.605584  0.401551  0.819945  0.597010\n",
       "3Q2021      0.606457  0.757860  1.000000  1.000000"
      ]
     },
     "execution_count": 8,
     "metadata": {},
     "output_type": "execute_result"
    }
   ],
   "source": [
    "df_normed"
   ]
  },
  {
   "cell_type": "code",
   "execution_count": 9,
   "id": "b80f5353",
   "metadata": {},
   "outputs": [],
   "source": [
    "df_normed2 =df_normed.drop([df_normed.index[12],df_normed.index[13],df_normed.index[14],df_normed.index[15],df_normed.index[16],df_normed.index[17],df_normed.index[18]])"
   ]
  },
  {
   "cell_type": "code",
   "execution_count": 10,
   "id": "00b2b03f",
   "metadata": {},
   "outputs": [
    {
     "data": {
      "text/html": [
       "<div>\n",
       "<style scoped>\n",
       "    .dataframe tbody tr th:only-of-type {\n",
       "        vertical-align: middle;\n",
       "    }\n",
       "\n",
       "    .dataframe tbody tr th {\n",
       "        vertical-align: top;\n",
       "    }\n",
       "\n",
       "    .dataframe thead th {\n",
       "        text-align: right;\n",
       "    }\n",
       "</style>\n",
       "<table border=\"1\" class=\"dataframe\">\n",
       "  <thead>\n",
       "    <tr style=\"text-align: right;\">\n",
       "      <th></th>\n",
       "      <th>3사 Mobile 매출</th>\n",
       "      <th>3사 PC매출</th>\n",
       "      <th>마케팅 비용</th>\n",
       "      <th>게임시장 규모</th>\n",
       "    </tr>\n",
       "  </thead>\n",
       "  <tbody>\n",
       "    <tr>\n",
       "      <th>1Q2017</th>\n",
       "      <td>0.000000</td>\n",
       "      <td>0.197145</td>\n",
       "      <td>0.000000</td>\n",
       "      <td>0.487832</td>\n",
       "    </tr>\n",
       "    <tr>\n",
       "      <th>2Q2017</th>\n",
       "      <td>0.317872</td>\n",
       "      <td>0.013608</td>\n",
       "      <td>0.075917</td>\n",
       "      <td>0.000000</td>\n",
       "    </tr>\n",
       "    <tr>\n",
       "      <th>3Q2017</th>\n",
       "      <td>0.609094</td>\n",
       "      <td>0.188127</td>\n",
       "      <td>0.209243</td>\n",
       "      <td>0.489802</td>\n",
       "    </tr>\n",
       "    <tr>\n",
       "      <th>4Q2017</th>\n",
       "      <td>0.605024</td>\n",
       "      <td>0.048484</td>\n",
       "      <td>0.408445</td>\n",
       "      <td>0.312585</td>\n",
       "    </tr>\n",
       "    <tr>\n",
       "      <th>1Q2018</th>\n",
       "      <td>0.460157</td>\n",
       "      <td>0.035346</td>\n",
       "      <td>0.226972</td>\n",
       "      <td>0.838839</td>\n",
       "    </tr>\n",
       "    <tr>\n",
       "      <th>2Q2018</th>\n",
       "      <td>0.293174</td>\n",
       "      <td>0.000000</td>\n",
       "      <td>0.207470</td>\n",
       "      <td>0.222160</td>\n",
       "    </tr>\n",
       "    <tr>\n",
       "      <th>3Q2018</th>\n",
       "      <td>0.344408</td>\n",
       "      <td>0.333050</td>\n",
       "      <td>0.250102</td>\n",
       "      <td>0.384097</td>\n",
       "    </tr>\n",
       "    <tr>\n",
       "      <th>4Q2018</th>\n",
       "      <td>0.319179</td>\n",
       "      <td>0.017379</td>\n",
       "      <td>0.367629</td>\n",
       "      <td>0.364396</td>\n",
       "    </tr>\n",
       "    <tr>\n",
       "      <th>1Q2019</th>\n",
       "      <td>0.114271</td>\n",
       "      <td>0.206506</td>\n",
       "      <td>0.239852</td>\n",
       "      <td>0.636297</td>\n",
       "    </tr>\n",
       "    <tr>\n",
       "      <th>2Q2019</th>\n",
       "      <td>0.128299</td>\n",
       "      <td>0.093090</td>\n",
       "      <td>0.300823</td>\n",
       "      <td>0.330489</td>\n",
       "    </tr>\n",
       "    <tr>\n",
       "      <th>3Q2019</th>\n",
       "      <td>0.104334</td>\n",
       "      <td>0.345228</td>\n",
       "      <td>0.198675</td>\n",
       "      <td>0.355872</td>\n",
       "    </tr>\n",
       "    <tr>\n",
       "      <th>4Q2019</th>\n",
       "      <td>0.213124</td>\n",
       "      <td>0.175111</td>\n",
       "      <td>0.391570</td>\n",
       "      <td>0.423159</td>\n",
       "    </tr>\n",
       "  </tbody>\n",
       "</table>\n",
       "</div>"
      ],
      "text/plain": [
       "        3사 Mobile 매출   3사 PC매출    마케팅 비용   게임시장 규모\n",
       "1Q2017      0.000000  0.197145  0.000000  0.487832\n",
       "2Q2017      0.317872  0.013608  0.075917  0.000000\n",
       "3Q2017      0.609094  0.188127  0.209243  0.489802\n",
       "4Q2017      0.605024  0.048484  0.408445  0.312585\n",
       "1Q2018      0.460157  0.035346  0.226972  0.838839\n",
       "2Q2018      0.293174  0.000000  0.207470  0.222160\n",
       "3Q2018      0.344408  0.333050  0.250102  0.384097\n",
       "4Q2018      0.319179  0.017379  0.367629  0.364396\n",
       "1Q2019      0.114271  0.206506  0.239852  0.636297\n",
       "2Q2019      0.128299  0.093090  0.300823  0.330489\n",
       "3Q2019      0.104334  0.345228  0.198675  0.355872\n",
       "4Q2019      0.213124  0.175111  0.391570  0.423159"
      ]
     },
     "execution_count": 10,
     "metadata": {},
     "output_type": "execute_result"
    }
   ],
   "source": [
    "df_normed2"
   ]
  },
  {
   "cell_type": "code",
   "execution_count": 11,
   "id": "1d9c35e7",
   "metadata": {},
   "outputs": [
    {
     "name": "stdout",
     "output_type": "stream",
     "text": [
      "[[ 1.         -0.34489121]\n",
      " [-0.34489121  1.        ]]\n",
      "[[1.         0.37400804]\n",
      " [0.37400804 1.        ]]\n",
      "[[1.         0.02869779]\n",
      " [0.02869779 1.        ]]\n"
     ]
    }
   ],
   "source": [
    "print(np.corrcoef(df_normed2[\"3사 Mobile 매출\"],df_normed2[\"3사 PC매출\"])) \n",
    "print(np.corrcoef(df_normed2[\"3사 Mobile 매출\"],df_normed2[\"마케팅 비용\"])) \n",
    "print(np.corrcoef(df_normed2[\"3사 Mobile 매출\"],df_normed2[\"게임시장 규모\"])) "
   ]
  },
  {
   "cell_type": "code",
   "execution_count": 12,
   "id": "c42c9f1c",
   "metadata": {},
   "outputs": [
    {
     "data": {
      "text/plain": [
       "<seaborn.axisgrid.PairGrid at 0x217a7f4cd90>"
      ]
     },
     "execution_count": 12,
     "metadata": {},
     "output_type": "execute_result"
    },
    {
     "data": {
      "image/png": "[encoded data removed]",
      "text/plain": [
       "<Figure size 720x720 with 20 Axes>"
      ]
     },
     "metadata": {
      "needs_background": "light"
     },
     "output_type": "display_data"
    }
   ],
   "source": [
    "sns.pairplot(df_normed2, vars=[\"3사 PC매출\",\"3사 Mobile 매출\",\"마케팅 비용\",\"게임시장 규모\"],size=2.5,kind=\"reg\")"
   ]
  },
  {
   "cell_type": "code",
   "execution_count": null,
   "id": "70c9bfac",
   "metadata": {},
   "outputs": [],
   "source": []
  },
  {
   "cell_type": "code",
   "execution_count": 32,
   "id": "aeb5aa31",
   "metadata": {},
   "outputs": [
    {
     "data": {
      "image/png": "[encoded data removed]",
      "text/plain": [
       "<Figure size 432x432 with 1 Axes>"
      ]
     },
     "metadata": {
      "needs_background": "light"
     },
     "output_type": "display_data"
    }
   ],
   "source": [
    "##### 3사 Mobile매출과 3사 PC가 서로 관계가 있는지 산포도 확인\n",
    "\n",
    "plt.figure(figsize=(6,6))\n",
    "plt.scatter(df_normed2[\"3사 Mobile 매출\"],df_normed2[\"3사 PC매출\"] ,s=50)\n",
    "plt.xlabel(\"3사 PC매출\")\n",
    "plt.ylabel(\"3사 Mobile 매출\")\n",
    "plt.grid()"
   ]
  },
  {
   "cell_type": "code",
   "execution_count": 28,
   "id": "39bc4fa5",
   "metadata": {},
   "outputs": [
    {
     "name": "stdout",
     "output_type": "stream",
     "text": [
      "[-0.55151722  0.3683861 ]\n",
      " \n",
      "-0.5515 x + 0.3684\n"
     ]
    },
    {
     "data": {
      "image/png": "[encoded data removed]",
      "text/plain": [
       "<Figure size 432x432 with 1 Axes>"
      ]
     },
     "metadata": {
      "needs_background": "light"
     },
     "output_type": "display_data"
    }
   ],
   "source": [
    "# 기울기와 절편\n",
    "\n",
    "fp1= np.polyfit(df_normed2[\"3사 PC매출\"],df_normed2[\"3사 Mobile 매출\"],1)\n",
    "print(fp1)\n",
    "\n",
    "\n",
    "#방정식\n",
    "f1 = np.poly1d(fp1)\n",
    "print(f1)\n",
    "\n",
    "\n",
    "\n",
    "fx= np.linspace(0,0.5) \n",
    "\n",
    "plt.figure(figsize=(6,6))\n",
    "plt.scatter(df_normed2[\"3사 PC매출\"],df_normed2[\"3사 Mobile 매출\"] ,s=50) \n",
    "\n",
    "plt.plot(fx,f1(fx),lw=3,color=\"g\",ls=\"dashed\")\n",
    "plt.xlabel(\"3사 PC매출\")\n",
    "plt.ylabel(\"3사 Mobile 매출\")\n",
    "plt.grid()\n"
   ]
  },
  {
   "cell_type": "code",
   "execution_count": null,
   "id": "9b8ac6ba",
   "metadata": {},
   "outputs": [],
   "source": []
  },
  {
   "cell_type": "code",
   "execution_count": 25,
   "id": "6dc59f40",
   "metadata": {},
   "outputs": [
    {
     "data": {
      "image/png": "[encoded data removed]",
      "text/plain": [
       "<Figure size 360x360 with 1 Axes>"
      ]
     },
     "metadata": {
      "needs_background": "light"
     },
     "output_type": "display_data"
    }
   ],
   "source": [
    "##### 3사 Mobile매출과 마케팅 비용이 서로 관계가 있는지 산포도 확인\n",
    "\n",
    "\n",
    "plt.figure(figsize=(5,5))\n",
    "plt.scatter(df_normed2[\"3사 Mobile 매출\"],df_normed2[\"마케팅 비용\"] ,s=50)\n",
    "plt.xlabel(\"마케팅 비용\")\n",
    "plt.ylabel(\"3사 Mobile매출\")\n",
    "plt.grid()"
   ]
  },
  {
   "cell_type": "code",
   "execution_count": 29,
   "id": "983e2e55",
   "metadata": {},
   "outputs": [
    {
     "name": "stdout",
     "output_type": "stream",
     "text": [
      "[0.60340687 0.14775966]\n",
      " \n",
      "0.6034 x + 0.1478\n"
     ]
    },
    {
     "data": {
      "image/png": "[encoded data removed]",
      "text/plain": [
       "<Figure size 432x432 with 1 Axes>"
      ]
     },
     "metadata": {
      "needs_background": "light"
     },
     "output_type": "display_data"
    }
   ],
   "source": [
    "# 기울기와 절편\n",
    "\n",
    "fp1= np.polyfit(df_normed2[\"마케팅 비용\"],df_normed2[\"3사 Mobile 매출\"],1)\n",
    "print(fp1)\n",
    "\n",
    "\n",
    "#방정식\n",
    "f1 = np.poly1d(fp1)\n",
    "print(f1)\n",
    "\n",
    "\n",
    "\n",
    "fx= np.linspace(0,0.5) \n",
    "\n",
    "plt.figure(figsize=(6,6))\n",
    "plt.scatter(df_normed2[\"마케팅 비용\"],df_normed2[\"3사 Mobile 매출\"] ,s=50) \n",
    "\n",
    "plt.plot(fx,f1(fx),lw=3,color=\"g\",ls=\"dashed\")\n",
    "plt.xlabel(\"마케팅 비용\")\n",
    "plt.ylabel(\"3사 Mobile 매출\")\n",
    "plt.grid()"
   ]
  },
  {
   "cell_type": "code",
   "execution_count": null,
   "id": "828c8ab7",
   "metadata": {},
   "outputs": [],
   "source": []
  },
  {
   "cell_type": "code",
   "execution_count": 26,
   "id": "12cb4335",
   "metadata": {},
   "outputs": [
    {
     "data": {
      "image/png": "[encoded data removed]",
      "text/plain": [
       "<Figure size 360x360 with 1 Axes>"
      ]
     },
     "metadata": {
      "needs_background": "light"
     },
     "output_type": "display_data"
    }
   ],
   "source": [
    "#### 3사 Mobile 매출과 전체 게임 산업과의 관계 확인\n",
    "\n",
    "\n",
    "plt.figure(figsize=(5,5))\n",
    "plt.scatter(df_normed2[\"3사 Mobile 매출\"],df_normed2[\"마케팅 비용\"] ,s=50) # s는 점크기\n",
    "plt.xlabel(\"마케팅 비용\")\n",
    "plt.ylabel(\"3사 Mobile매출\")\n",
    "plt.grid()"
   ]
  },
  {
   "cell_type": "code",
   "execution_count": 21,
   "id": "e85f70a1",
   "metadata": {},
   "outputs": [
    {
     "name": "stdout",
     "output_type": "stream",
     "text": [
      "[0.02693975 0.28153315]\n",
      " \n",
      "0.02694 x + 0.2815\n"
     ]
    },
    {
     "data": {
      "image/png": "[encoded data removed]",
      "text/plain": [
       "<Figure size 432x432 with 1 Axes>"
      ]
     },
     "metadata": {
      "needs_background": "light"
     },
     "output_type": "display_data"
    }
   ],
   "source": [
    "# 기울기와 절편\n",
    "\n",
    "fp1= np.polyfit(df_normed2[\"게임시장 규모\"],df_normed2[\"3사 Mobile 매출\"],1)\n",
    "print(fp1)\n",
    "\n",
    "\n",
    "#방정식\n",
    "f1 = np.poly1d(fp1)\n",
    "print(f1)\n",
    "\n",
    "\n",
    "\n",
    "fx= np.linspace(0,0.9) \n",
    "\n",
    "plt.figure(figsize=(6,6))\n",
    "plt.scatter(df_normed2[\"게임시장 규모\"],df_normed2[\"3사 Mobile 매출\"] ,s=50) \n",
    "\n",
    "plt.plot(fx,f1(fx),lw=3,color=\"g\",ls=\"dashed\")\n",
    "plt.xlabel(\"게임시장 규모\")\n",
    "plt.ylabel(\"3사 Mobile 매출\")\n",
    "plt.grid()"
   ]
  },
  {
   "cell_type": "code",
   "execution_count": null,
   "id": "e7acf36f",
   "metadata": {},
   "outputs": [],
   "source": []
  },
  {
   "cell_type": "code",
   "execution_count": 23,
   "id": "a62b945c",
   "metadata": {},
   "outputs": [],
   "source": [
    "df_normed2[\"오차1\"] = np.abs(df_normed2[\"3사 PC매출\"]- f1(df_normed2[\"3사 Mobile 매출\"]))\n",
    "\n",
    "df_normed2[\"오차2\"] = np.abs(df_normed2[\"3사 PC매출\"]- f1(df_normed2[\"마케팅 비용\"]))\n",
    "\n",
    "df_normed2[\"오차3\"] = np.abs(df_normed2[\"3사 PC매출\"]- f1(df_normed2[\"게임시장 규모\"]))"
   ]
  },
  {
   "cell_type": "code",
   "execution_count": 24,
   "id": "5201ba7d",
   "metadata": {},
   "outputs": [
    {
     "data": {
      "text/html": [
       "<div>\n",
       "<style scoped>\n",
       "    .dataframe tbody tr th:only-of-type {\n",
       "        vertical-align: middle;\n",
       "    }\n",
       "\n",
       "    .dataframe tbody tr th {\n",
       "        vertical-align: top;\n",
       "    }\n",
       "\n",
       "    .dataframe thead th {\n",
       "        text-align: right;\n",
       "    }\n",
       "</style>\n",
       "<table border=\"1\" class=\"dataframe\">\n",
       "  <thead>\n",
       "    <tr style=\"text-align: right;\">\n",
       "      <th></th>\n",
       "      <th>3사 Mobile 매출</th>\n",
       "      <th>3사 PC매출</th>\n",
       "      <th>마케팅 비용</th>\n",
       "      <th>게임시장 규모</th>\n",
       "      <th>오차1</th>\n",
       "      <th>오차2</th>\n",
       "      <th>오차3</th>\n",
       "    </tr>\n",
       "  </thead>\n",
       "  <tbody>\n",
       "    <tr>\n",
       "      <th>2Q2018</th>\n",
       "      <td>0.293174</td>\n",
       "      <td>0.000000</td>\n",
       "      <td>0.207470</td>\n",
       "      <td>0.222160</td>\n",
       "      <td>0.289431</td>\n",
       "      <td>0.287122</td>\n",
       "      <td>0.287518</td>\n",
       "    </tr>\n",
       "    <tr>\n",
       "      <th>2Q2017</th>\n",
       "      <td>0.317872</td>\n",
       "      <td>0.013608</td>\n",
       "      <td>0.075917</td>\n",
       "      <td>0.000000</td>\n",
       "      <td>0.276489</td>\n",
       "      <td>0.269970</td>\n",
       "      <td>0.267925</td>\n",
       "    </tr>\n",
       "    <tr>\n",
       "      <th>4Q2018</th>\n",
       "      <td>0.319179</td>\n",
       "      <td>0.017379</td>\n",
       "      <td>0.367629</td>\n",
       "      <td>0.364396</td>\n",
       "      <td>0.272753</td>\n",
       "      <td>0.274058</td>\n",
       "      <td>0.273971</td>\n",
       "    </tr>\n",
       "    <tr>\n",
       "      <th>1Q2018</th>\n",
       "      <td>0.460157</td>\n",
       "      <td>0.035346</td>\n",
       "      <td>0.226972</td>\n",
       "      <td>0.838839</td>\n",
       "      <td>0.258583</td>\n",
       "      <td>0.252302</td>\n",
       "      <td>0.268785</td>\n",
       "    </tr>\n",
       "    <tr>\n",
       "      <th>4Q2017</th>\n",
       "      <td>0.605024</td>\n",
       "      <td>0.048484</td>\n",
       "      <td>0.408445</td>\n",
       "      <td>0.312585</td>\n",
       "      <td>0.249348</td>\n",
       "      <td>0.244052</td>\n",
       "      <td>0.241470</td>\n",
       "    </tr>\n",
       "    <tr>\n",
       "      <th>2Q2019</th>\n",
       "      <td>0.128299</td>\n",
       "      <td>0.093090</td>\n",
       "      <td>0.300823</td>\n",
       "      <td>0.330489</td>\n",
       "      <td>0.191900</td>\n",
       "      <td>0.196548</td>\n",
       "      <td>0.197347</td>\n",
       "    </tr>\n",
       "    <tr>\n",
       "      <th>4Q2019</th>\n",
       "      <td>0.213124</td>\n",
       "      <td>0.175111</td>\n",
       "      <td>0.391570</td>\n",
       "      <td>0.423159</td>\n",
       "      <td>0.112164</td>\n",
       "      <td>0.116971</td>\n",
       "      <td>0.117822</td>\n",
       "    </tr>\n",
       "    <tr>\n",
       "      <th>3Q2017</th>\n",
       "      <td>0.609094</td>\n",
       "      <td>0.188127</td>\n",
       "      <td>0.209243</td>\n",
       "      <td>0.489802</td>\n",
       "      <td>0.109815</td>\n",
       "      <td>0.099043</td>\n",
       "      <td>0.106601</td>\n",
       "    </tr>\n",
       "    <tr>\n",
       "      <th>1Q2017</th>\n",
       "      <td>0.000000</td>\n",
       "      <td>0.197145</td>\n",
       "      <td>0.000000</td>\n",
       "      <td>0.487832</td>\n",
       "      <td>0.084388</td>\n",
       "      <td>0.084388</td>\n",
       "      <td>0.097530</td>\n",
       "    </tr>\n",
       "    <tr>\n",
       "      <th>1Q2019</th>\n",
       "      <td>0.114271</td>\n",
       "      <td>0.206506</td>\n",
       "      <td>0.239852</td>\n",
       "      <td>0.636297</td>\n",
       "      <td>0.078105</td>\n",
       "      <td>0.081488</td>\n",
       "      <td>0.092168</td>\n",
       "    </tr>\n",
       "    <tr>\n",
       "      <th>3Q2019</th>\n",
       "      <td>0.104334</td>\n",
       "      <td>0.345228</td>\n",
       "      <td>0.198675</td>\n",
       "      <td>0.355872</td>\n",
       "      <td>0.060884</td>\n",
       "      <td>0.058342</td>\n",
       "      <td>0.054107</td>\n",
       "    </tr>\n",
       "    <tr>\n",
       "      <th>3Q2018</th>\n",
       "      <td>0.344408</td>\n",
       "      <td>0.333050</td>\n",
       "      <td>0.250102</td>\n",
       "      <td>0.384097</td>\n",
       "      <td>0.042238</td>\n",
       "      <td>0.044779</td>\n",
       "      <td>0.041169</td>\n",
       "    </tr>\n",
       "  </tbody>\n",
       "</table>\n",
       "</div>"
      ],
      "text/plain": [
       "        3사 Mobile 매출   3사 PC매출    마케팅 비용   게임시장 규모       오차1       오차2  \\\n",
       "2Q2018      0.293174  0.000000  0.207470  0.222160  0.289431  0.287122   \n",
       "2Q2017      0.317872  0.013608  0.075917  0.000000  0.276489  0.269970   \n",
       "4Q2018      0.319179  0.017379  0.367629  0.364396  0.272753  0.274058   \n",
       "1Q2018      0.460157  0.035346  0.226972  0.838839  0.258583  0.252302   \n",
       "4Q2017      0.605024  0.048484  0.408445  0.312585  0.249348  0.244052   \n",
       "2Q2019      0.128299  0.093090  0.300823  0.330489  0.191900  0.196548   \n",
       "4Q2019      0.213124  0.175111  0.391570  0.423159  0.112164  0.116971   \n",
       "3Q2017      0.609094  0.188127  0.209243  0.489802  0.109815  0.099043   \n",
       "1Q2017      0.000000  0.197145  0.000000  0.487832  0.084388  0.084388   \n",
       "1Q2019      0.114271  0.206506  0.239852  0.636297  0.078105  0.081488   \n",
       "3Q2019      0.104334  0.345228  0.198675  0.355872  0.060884  0.058342   \n",
       "3Q2018      0.344408  0.333050  0.250102  0.384097  0.042238  0.044779   \n",
       "\n",
       "             오차3  \n",
       "2Q2018  0.287518  \n",
       "2Q2017  0.267925  \n",
       "4Q2018  0.273971  \n",
       "1Q2018  0.268785  \n",
       "4Q2017  0.241470  \n",
       "2Q2019  0.197347  \n",
       "4Q2019  0.117822  \n",
       "3Q2017  0.106601  \n",
       "1Q2017  0.097530  \n",
       "1Q2019  0.092168  \n",
       "3Q2019  0.054107  \n",
       "3Q2018  0.041169  "
      ]
     },
     "execution_count": 24,
     "metadata": {},
     "output_type": "execute_result"
    }
   ],
   "source": [
    "df_normed3 = df_normed2.sort_values(by=\"오차1\",ascending=False)\n",
    "df_normed3"
   ]
  },
  {
   "cell_type": "code",
   "execution_count": 38,
   "id": "c283c10c",
   "metadata": {},
   "outputs": [
    {
     "data": {
      "image/png": "[encoded data removed]",
      "text/plain": [
       "<Figure size 504x504 with 2 Axes>"
      ]
     },
     "metadata": {
      "needs_background": "light"
     },
     "output_type": "display_data"
    }
   ],
   "source": [
    "plt.figure(figsize=(7,7))\n",
    "plt.scatter(df_normed2[\"3사 PC매출\"],df_normed2[\"3사 Mobile 매출\"] ,s=50 ,c=df_normed2[\"오차1\"]) \n",
    "plt.plot(fx,f1(fx),lw=3,color=\"g\",ls=\"dashed\")\n",
    "\n",
    "plt.xlabel(\"3사 PC매출\")\n",
    "plt.ylabel(\"3사 Mobile 매출\")\n",
    "plt.grid()\n",
    "plt.colorbar()\n",
    "\n",
    "for n in range(12):\n",
    "    plt.text(df_normed3[\"3사 PC매출\"][n],df_normed3[\"3사 Mobile 매출\"][n],df_normed3.index[n],fontsize=8)"
   ]
  },
  {
   "cell_type": "code",
   "execution_count": 42,
   "id": "a6630aef",
   "metadata": {},
   "outputs": [
    {
     "data": {
      "image/png": "[encoded data removed]",
      "text/plain": [
       "<Figure size 504x504 with 2 Axes>"
      ]
     },
     "metadata": {
      "needs_background": "light"
     },
     "output_type": "display_data"
    }
   ],
   "source": [
    "plt.figure(figsize=(7,7))\n",
    "plt.scatter(df_normed2[\"마케팅 비용\"],df_normed2[\"3사 Mobile 매출\"] ,s=50 ,c=df_normed2[\"오차2\"]) \n",
    "plt.plot(fx,f1(fx),lw=3,color=\"g\",ls=\"dashed\")\n",
    "\n",
    "plt.xlabel(\"마케팅 비용\")\n",
    "plt.ylabel(\"3사 Mobile매출\")\n",
    "plt.grid()\n",
    "plt.colorbar()\n",
    "\n",
    "for n in range(12):\n",
    "    plt.text(df_normed3[\"마케팅 비용\"][n],df_normed3[\"3사 Mobile 매출\"][n],df_normed3.index[n],fontsize=8)"
   ]
  },
  {
   "cell_type": "code",
   "execution_count": 25,
   "id": "aca656c4",
   "metadata": {},
   "outputs": [
    {
     "data": {
      "image/png": "[encoded data removed]",
      "text/plain": [
       "<Figure size 504x504 with 2 Axes>"
      ]
     },
     "metadata": {
      "needs_background": "light"
     },
     "output_type": "display_data"
    }
   ],
   "source": [
    "plt.figure(figsize=(7,7))\n",
    "plt.scatter(df_normed2[\"게임시장 규모\"],df_normed2[\"3사 Mobile 매출\"] ,s=50 ,c=df_normed2[\"오차2\"]) \n",
    "plt.plot(fx,f1(fx),lw=3,color=\"g\",ls=\"dashed\")\n",
    "\n",
    "plt.xlabel(\"게임 산업\")\n",
    "plt.ylabel(\"3사 Mobile매출\")\n",
    "plt.grid()\n",
    "plt.colorbar()\n",
    "\n",
    "for n in range(12):\n",
    "    plt.text(df_normed3[\"게임시장 규모\"][n],df_normed3[\"3사 Mobile 매출\"][n],df_normed3.index[n],fontsize=8)"
   ]
  },
  {
   "cell_type": "code",
   "execution_count": 48,
   "id": "19655034",
   "metadata": {},
   "outputs": [
    {
     "data": {
      "text/plain": [
       "Text(0.5, 1.0, 'heat map')"
      ]
     },
     "execution_count": 48,
     "metadata": {},
     "output_type": "execute_result"
    },
    {
     "data": {
      "image/png": "[encoded data removed]",
      "text/plain": [
       "<Figure size 720x720 with 2 Axes>"
      ]
     },
     "metadata": {
      "needs_background": "light"
     },
     "output_type": "display_data"
    }
   ],
   "source": [
    "plt.figure(figsize=(10,10))\n",
    "sns.heatmap(df_normed3[[\"3사 PC매출\",\"3사 Mobile 매출\",\"마케팅 비용\",\"게임시장 규모\"]],cmap=\"RdPu\",annot=True,fmt=\"f\",linewidths=.5)\n",
    "\n",
    "\n",
    "plt.title(\"heat map\")"
   ]
  },
  {
   "cell_type": "code",
   "execution_count": null,
   "id": "876bb717",
   "metadata": {},
   "outputs": [],
   "source": [
    "##### 결과: 3사 Mobile 매출은 3사 PC매출과는 음의 상관관계를 보이며, \n",
    "#  마케팅 비용과는 양의 상관관계, \n",
    "#  게임시장 규모와는 큰 관계성을 보이지 않는다. ...?"
   ]
  },
  {
   "cell_type": "code",
   "execution_count": null,
   "id": "ec4657b7",
   "metadata": {},
   "outputs": [],
   "source": []
  },
  {
   "cell_type": "code",
   "execution_count": null,
   "id": "d8d1a753",
   "metadata": {},
   "outputs": [],
   "source": []
  },
  {
   "cell_type": "code",
   "execution_count": null,
   "id": "a8d1fb3a",
   "metadata": {},
   "outputs": [],
   "source": []
  },
  {
   "cell_type": "code",
   "execution_count": null,
   "id": "628a0e33",
   "metadata": {},
   "outputs": [],
   "source": []
  },
  {
   "cell_type": "code",
   "execution_count": null,
   "id": "6ec7bb21",
   "metadata": {},
   "outputs": [],
   "source": []
  },
  {
   "cell_type": "code",
   "execution_count": null,
   "id": "178da931",
   "metadata": {},
   "outputs": [],
   "source": []
  },
  {
   "cell_type": "code",
   "execution_count": null,
   "id": "97f0c825",
   "metadata": {},
   "outputs": [],
   "source": []
  },
  {
   "cell_type": "code",
   "execution_count": null,
   "id": "4bf6b334",
   "metadata": {},
   "outputs": [],
   "source": []
  },
  {
   "cell_type": "code",
   "execution_count": null,
   "id": "cce13363",
   "metadata": {},
   "outputs": [],
   "source": []
  },
  {
   "cell_type": "code",
   "execution_count": null,
   "id": "9303bbbc",
   "metadata": {},
   "outputs": [],
   "source": []
  },
  {
   "cell_type": "code",
   "execution_count": null,
   "id": "385b1084",
   "metadata": {},
   "outputs": [],
   "source": []
  },
  {
   "cell_type": "code",
   "execution_count": null,
   "id": "e5cec367",
   "metadata": {},
   "outputs": [],
   "source": []
  }
 ],
 "metadata": {
  "kernelspec": {
   "display_name": "Python 3",
   "language": "python",
   "name": "python3"
  },
  "language_info": {
   "codemirror_mode": {
    "name": "ipython",
    "version": 3
   },
   "file_extension": ".py",
   "mimetype": "text/x-python",
   "name": "python",
   "nbconvert_exporter": "python",
   "pygments_lexer": "ipython3",
   "version": "3.8.8"
  }
 },
 "nbformat": 4,
 "nbformat_minor": 5
}
