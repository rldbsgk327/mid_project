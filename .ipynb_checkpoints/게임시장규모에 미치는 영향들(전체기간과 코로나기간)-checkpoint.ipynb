{
 "cells": [
  {
   "cell_type": "code",
   "execution_count": 1,
   "id": "873939ac",
   "metadata": {},
   "outputs": [],
   "source": [
    "import numpy as np\n",
    "import pandas as pd\n",
    "import matplotlib.pyplot as plt\n",
    "import seaborn as sns\n",
    "import matplotlib.pyplot as plt\n",
    "\n",
    "import warnings\n",
    "warnings.filterwarnings(action=\"ignore\")\n",
    "\n",
    "import matplotlib.font_manager as fm\n",
    "font_name = fm.FontProperties(fname=\"C:/Windows/Fonts/malgun.ttf\").get_name()\n",
    "plt.rc(\"font\", family=font_name)\n",
    "\n",
    "import matplotlib as mpl\n",
    "mpl.rcParams[\"axes.unicode_minus\"] = False\n",
    "\n",
    "\n",
    "import urllib.request as req\n",
    "from urllib.request import urlopen\n",
    "from urllib.error import HTTPError,URLError\n",
    "import urllib.parse\n",
    "from bs4 import BeautifulSoup\n",
    "import requests\n",
    "\n",
    "from sklearn import linear_model\n",
    "from scipy import stats\n",
    "import statsmodels\n",
    "import statsmodels.api as sm\n",
    "import statsmodels.formula.api as smf\n",
    "import statsmodels.stats.api as sms\n",
    "from statsmodels.compat import lzip\n",
    "\n",
    "import seaborn as sns\n",
    "import matplotlib.pyplot as plt\n",
    "from mpl_toolkits.mplot3d import Axes3D\n",
    "\n",
    "plt.rcParams['figure.figsize'] = (7, 7)\n",
    "plt.style.use('ggplot')\n",
    "from patsy import dmatrix, dmatrices\n",
    "from statsmodels.stats.outliers_influence import variance_inflation_factor"
   ]
  },
  {
   "cell_type": "code",
   "execution_count": 2,
   "id": "5a9086f3",
   "metadata": {},
   "outputs": [],
   "source": [
    "merge = pd.read_excel(\"data/merge.xlsx\")"
   ]
  },
  {
   "cell_type": "code",
   "execution_count": 3,
   "id": "3d975f9a",
   "metadata": {},
   "outputs": [
    {
     "data": {
      "text/html": [
       "<div>\n",
       "<style scoped>\n",
       "    .dataframe tbody tr th:only-of-type {\n",
       "        vertical-align: middle;\n",
       "    }\n",
       "\n",
       "    .dataframe tbody tr th {\n",
       "        vertical-align: top;\n",
       "    }\n",
       "\n",
       "    .dataframe thead th {\n",
       "        text-align: right;\n",
       "    }\n",
       "</style>\n",
       "<table border=\"1\" class=\"dataframe\">\n",
       "  <thead>\n",
       "    <tr style=\"text-align: right;\">\n",
       "      <th></th>\n",
       "      <th>Unnamed: 0</th>\n",
       "      <th>3사 Mobile 매출</th>\n",
       "      <th>3사 PC매출</th>\n",
       "      <th>평균기온(°C)</th>\n",
       "      <th>마케팅 비용</th>\n",
       "      <th>게임시장 규모</th>\n",
       "      <th>코로나확진자</th>\n",
       "    </tr>\n",
       "  </thead>\n",
       "  <tbody>\n",
       "    <tr>\n",
       "      <th>0</th>\n",
       "      <td>1Q2017</td>\n",
       "      <td>1.907603e+11</td>\n",
       "      <td>944747000000</td>\n",
       "      <td>2.744561</td>\n",
       "      <td>1.858444e+11</td>\n",
       "      <td>2.049056e+12</td>\n",
       "      <td>0</td>\n",
       "    </tr>\n",
       "    <tr>\n",
       "      <th>1</th>\n",
       "      <td>2Q2017</td>\n",
       "      <td>5.611863e+11</td>\n",
       "      <td>745618000000</td>\n",
       "      <td>17.886667</td>\n",
       "      <td>2.045050e+11</td>\n",
       "      <td>1.458523e+12</td>\n",
       "      <td>0</td>\n",
       "    </tr>\n",
       "    <tr>\n",
       "      <th>2</th>\n",
       "      <td>3Q2017</td>\n",
       "      <td>9.005560e+11</td>\n",
       "      <td>934963500000</td>\n",
       "      <td>24.000000</td>\n",
       "      <td>2.372769e+11</td>\n",
       "      <td>2.051440e+12</td>\n",
       "      <td>0</td>\n",
       "    </tr>\n",
       "    <tr>\n",
       "      <th>3</th>\n",
       "      <td>4Q2017</td>\n",
       "      <td>8.958130e+11</td>\n",
       "      <td>783457000000</td>\n",
       "      <td>7.394386</td>\n",
       "      <td>2.862413e+11</td>\n",
       "      <td>1.836915e+12</td>\n",
       "      <td>0</td>\n",
       "    </tr>\n",
       "    <tr>\n",
       "      <th>4</th>\n",
       "      <td>1Q2018</td>\n",
       "      <td>7.269950e+11</td>\n",
       "      <td>769203000000</td>\n",
       "      <td>2.030175</td>\n",
       "      <td>2.416348e+11</td>\n",
       "      <td>2.473959e+12</td>\n",
       "      <td>0</td>\n",
       "    </tr>\n",
       "    <tr>\n",
       "      <th>5</th>\n",
       "      <td>2Q2018</td>\n",
       "      <td>5.324043e+11</td>\n",
       "      <td>730854000000</td>\n",
       "      <td>17.555088</td>\n",
       "      <td>2.368410e+11</td>\n",
       "      <td>1.727453e+12</td>\n",
       "      <td>0</td>\n",
       "    </tr>\n",
       "    <tr>\n",
       "      <th>6</th>\n",
       "      <td>3Q2018</td>\n",
       "      <td>5.921097e+11</td>\n",
       "      <td>1092197500000</td>\n",
       "      <td>24.640351</td>\n",
       "      <td>2.473202e+11</td>\n",
       "      <td>1.923482e+12</td>\n",
       "      <td>0</td>\n",
       "    </tr>\n",
       "    <tr>\n",
       "      <th>7</th>\n",
       "      <td>4Q2018</td>\n",
       "      <td>5.627087e+11</td>\n",
       "      <td>749709000000</td>\n",
       "      <td>7.538947</td>\n",
       "      <td>2.762086e+11</td>\n",
       "      <td>1.899634e+12</td>\n",
       "      <td>0</td>\n",
       "    </tr>\n",
       "    <tr>\n",
       "      <th>8</th>\n",
       "      <td>1Q2019</td>\n",
       "      <td>3.239240e+11</td>\n",
       "      <td>954904000000</td>\n",
       "      <td>3.451228</td>\n",
       "      <td>2.448007e+11</td>\n",
       "      <td>2.228777e+12</td>\n",
       "      <td>0</td>\n",
       "    </tr>\n",
       "    <tr>\n",
       "      <th>9</th>\n",
       "      <td>2Q2019</td>\n",
       "      <td>3.402707e+11</td>\n",
       "      <td>831852000000</td>\n",
       "      <td>17.073776</td>\n",
       "      <td>2.597875e+11</td>\n",
       "      <td>1.858589e+12</td>\n",
       "      <td>0</td>\n",
       "    </tr>\n",
       "    <tr>\n",
       "      <th>10</th>\n",
       "      <td>3Q2019</td>\n",
       "      <td>3.123433e+11</td>\n",
       "      <td>1105410000000</td>\n",
       "      <td>24.010140</td>\n",
       "      <td>2.346793e+11</td>\n",
       "      <td>1.889315e+12</td>\n",
       "      <td>0</td>\n",
       "    </tr>\n",
       "    <tr>\n",
       "      <th>11</th>\n",
       "      <td>4Q2019</td>\n",
       "      <td>4.391200e+11</td>\n",
       "      <td>920841000000</td>\n",
       "      <td>9.167368</td>\n",
       "      <td>2.820933e+11</td>\n",
       "      <td>1.970767e+12</td>\n",
       "      <td>0</td>\n",
       "    </tr>\n",
       "    <tr>\n",
       "      <th>12</th>\n",
       "      <td>1Q2020</td>\n",
       "      <td>1.048860e+12</td>\n",
       "      <td>1593336000000</td>\n",
       "      <td>4.849123</td>\n",
       "      <td>2.347716e+11</td>\n",
       "      <td>2.442203e+12</td>\n",
       "      <td>9886</td>\n",
       "    </tr>\n",
       "    <tr>\n",
       "      <th>13</th>\n",
       "      <td>2Q2020</td>\n",
       "      <td>8.875083e+11</td>\n",
       "      <td>1240709000000</td>\n",
       "      <td>16.954737</td>\n",
       "      <td>2.838224e+11</td>\n",
       "      <td>2.261376e+12</td>\n",
       "      <td>2963</td>\n",
       "    </tr>\n",
       "    <tr>\n",
       "      <th>14</th>\n",
       "      <td>3Q2020</td>\n",
       "      <td>1.356090e+12</td>\n",
       "      <td>1453089000000</td>\n",
       "      <td>23.112281</td>\n",
       "      <td>3.233597e+11</td>\n",
       "      <td>2.481031e+12</td>\n",
       "      <td>11038</td>\n",
       "    </tr>\n",
       "    <tr>\n",
       "      <th>15</th>\n",
       "      <td>4Q2020</td>\n",
       "      <td>1.161611e+12</td>\n",
       "      <td>1306676000000</td>\n",
       "      <td>7.912281</td>\n",
       "      <td>3.749360e+11</td>\n",
       "      <td>2.317881e+12</td>\n",
       "      <td>37865</td>\n",
       "    </tr>\n",
       "    <tr>\n",
       "      <th>16</th>\n",
       "      <td>1Q2021</td>\n",
       "      <td>9.742760e+11</td>\n",
       "      <td>1815808000000</td>\n",
       "      <td>4.052632</td>\n",
       "      <td>2.914224e+11</td>\n",
       "      <td>2.525152e+12</td>\n",
       "      <td>41877</td>\n",
       "    </tr>\n",
       "    <tr>\n",
       "      <th>17</th>\n",
       "      <td>2Q2021</td>\n",
       "      <td>8.964657e+11</td>\n",
       "      <td>1166518000000</td>\n",
       "      <td>17.236268</td>\n",
       "      <td>3.873891e+11</td>\n",
       "      <td>2.181218e+12</td>\n",
       "      <td>54091</td>\n",
       "    </tr>\n",
       "    <tr>\n",
       "      <th>18</th>\n",
       "      <td>3Q2021</td>\n",
       "      <td>8.974830e+11</td>\n",
       "      <td>1553097000000</td>\n",
       "      <td>24.183158</td>\n",
       "      <td>4.316472e+11</td>\n",
       "      <td>2.669047e+12</td>\n",
       "      <td>153555</td>\n",
       "    </tr>\n",
       "  </tbody>\n",
       "</table>\n",
       "</div>"
      ],
      "text/plain": [
       "   Unnamed: 0  3사 Mobile 매출        3사 PC매출   평균기온(°C)        마케팅 비용  \\\n",
       "0      1Q2017  1.907603e+11   944747000000   2.744561  1.858444e+11   \n",
       "1      2Q2017  5.611863e+11   745618000000  17.886667  2.045050e+11   \n",
       "2      3Q2017  9.005560e+11   934963500000  24.000000  2.372769e+11   \n",
       "3      4Q2017  8.958130e+11   783457000000   7.394386  2.862413e+11   \n",
       "4      1Q2018  7.269950e+11   769203000000   2.030175  2.416348e+11   \n",
       "5      2Q2018  5.324043e+11   730854000000  17.555088  2.368410e+11   \n",
       "6      3Q2018  5.921097e+11  1092197500000  24.640351  2.473202e+11   \n",
       "7      4Q2018  5.627087e+11   749709000000   7.538947  2.762086e+11   \n",
       "8      1Q2019  3.239240e+11   954904000000   3.451228  2.448007e+11   \n",
       "9      2Q2019  3.402707e+11   831852000000  17.073776  2.597875e+11   \n",
       "10     3Q2019  3.123433e+11  1105410000000  24.010140  2.346793e+11   \n",
       "11     4Q2019  4.391200e+11   920841000000   9.167368  2.820933e+11   \n",
       "12     1Q2020  1.048860e+12  1593336000000   4.849123  2.347716e+11   \n",
       "13     2Q2020  8.875083e+11  1240709000000  16.954737  2.838224e+11   \n",
       "14     3Q2020  1.356090e+12  1453089000000  23.112281  3.233597e+11   \n",
       "15     4Q2020  1.161611e+12  1306676000000   7.912281  3.749360e+11   \n",
       "16     1Q2021  9.742760e+11  1815808000000   4.052632  2.914224e+11   \n",
       "17     2Q2021  8.964657e+11  1166518000000  17.236268  3.873891e+11   \n",
       "18     3Q2021  8.974830e+11  1553097000000  24.183158  4.316472e+11   \n",
       "\n",
       "         게임시장 규모  코로나확진자  \n",
       "0   2.049056e+12       0  \n",
       "1   1.458523e+12       0  \n",
       "2   2.051440e+12       0  \n",
       "3   1.836915e+12       0  \n",
       "4   2.473959e+12       0  \n",
       "5   1.727453e+12       0  \n",
       "6   1.923482e+12       0  \n",
       "7   1.899634e+12       0  \n",
       "8   2.228777e+12       0  \n",
       "9   1.858589e+12       0  \n",
       "10  1.889315e+12       0  \n",
       "11  1.970767e+12       0  \n",
       "12  2.442203e+12    9886  \n",
       "13  2.261376e+12    2963  \n",
       "14  2.481031e+12   11038  \n",
       "15  2.317881e+12   37865  \n",
       "16  2.525152e+12   41877  \n",
       "17  2.181218e+12   54091  \n",
       "18  2.669047e+12  153555  "
      ]
     },
     "execution_count": 3,
     "metadata": {},
     "output_type": "execute_result"
    }
   ],
   "source": [
    "merge"
   ]
  },
  {
   "cell_type": "code",
   "execution_count": 40,
   "id": "4e3bd88d",
   "metadata": {},
   "outputs": [],
   "source": [
    "##### 기온 데이터 제외\n",
    "\n",
    "df = merge.loc[:, (\"3사 Mobile 매출\", \"3사 PC매출\", \"마케팅 비용\", \"게임시장 규모\",\"코로나확진자\")]"
   ]
  },
  {
   "cell_type": "code",
   "execution_count": 5,
   "id": "a3cf9de4",
   "metadata": {},
   "outputs": [
    {
     "name": "stdout",
     "output_type": "stream",
     "text": [
      "변수들의 평균: \n",
      " 3사 Mobile 매출    7.158151e+11\n",
      "3사 PC매출         1.089105e+12\n",
      "마케팅 비용          2.770832e+11\n",
      "게임시장 규모         2.118201e+12\n",
      "코로나확진자          1.638289e+04\n",
      "dtype: float64\n",
      "-----------------------------------------------------\n",
      "변수들의 분산: \n",
      " 3사 Mobile 매출    1.030064e+23\n",
      "3사 PC매출         1.067269e+23\n",
      "마케팅 비용          4.000171e+21\n",
      "게임시장 규모         1.006792e+23\n",
      "코로나확진자          1.378954e+09\n",
      "dtype: float64\n"
     ]
    }
   ],
   "source": [
    "print(\"변수들의 평균: \\n\", df.mean())\n",
    "print(\"-----------------------------------------------------\")\n",
    "print(\"변수들의 분산: \\n\", df.var())        # 분산에 마케팅비용 이상치 -> 표준화 필요"
   ]
  },
  {
   "cell_type": "markdown",
   "id": "8ebb37c7",
   "metadata": {},
   "source": [
    "## 1. 정규화"
   ]
  },
  {
   "cell_type": "code",
   "execution_count": 41,
   "id": "dabc714d",
   "metadata": {},
   "outputs": [
    {
     "name": "stdout",
     "output_type": "stream",
     "text": [
      "변수들의 최솟값: \n",
      " 3사 Mobile 매출    0.0\n",
      "3사 PC매출         0.0\n",
      "마케팅 비용          0.0\n",
      "게임시장 규모         0.0\n",
      "코로나확진자          0.0\n",
      "dtype: float64\n",
      "-----------------------------------------------------\n",
      "변수들의 최댓값: \n",
      " 3사 Mobile 매출    1.0\n",
      "3사 PC매출         1.0\n",
      "마케팅 비용          1.0\n",
      "게임시장 규모         1.0\n",
      "코로나확진자          1.0\n",
      "dtype: float64\n"
     ]
    }
   ],
   "source": [
    "from sklearn.preprocessing import MinMaxScaler         \n",
    "\n",
    "scaler = MinMaxScaler()\n",
    "scaler.fit(df)\n",
    "result_scaled = scaler.transform(df)\n",
    "\n",
    "df_normed = pd.DataFrame(data = result_scaled, columns = df.columns)\n",
    "\n",
    "print(\"변수들의 최솟값: \\n\", df_normed.min())\n",
    "print(\"-----------------------------------------------------\")\n",
    "print(\"변수들의 최댓값: \\n\", df_normed.max())\n",
    "\n",
    "# 최솟값과 최댓값의 격차가 줄어들었다."
   ]
  },
  {
   "cell_type": "code",
   "execution_count": 42,
   "id": "baf6762b",
   "metadata": {},
   "outputs": [
    {
     "data": {
      "text/html": [
       "<div>\n",
       "<style scoped>\n",
       "    .dataframe tbody tr th:only-of-type {\n",
       "        vertical-align: middle;\n",
       "    }\n",
       "\n",
       "    .dataframe tbody tr th {\n",
       "        vertical-align: top;\n",
       "    }\n",
       "\n",
       "    .dataframe thead th {\n",
       "        text-align: right;\n",
       "    }\n",
       "</style>\n",
       "<table border=\"1\" class=\"dataframe\">\n",
       "  <thead>\n",
       "    <tr style=\"text-align: right;\">\n",
       "      <th></th>\n",
       "      <th>3사 Mobile 매출</th>\n",
       "      <th>3사 PC매출</th>\n",
       "      <th>마케팅 비용</th>\n",
       "      <th>게임시장 규모</th>\n",
       "      <th>코로나확진자</th>\n",
       "    </tr>\n",
       "  </thead>\n",
       "  <tbody>\n",
       "    <tr>\n",
       "      <th>0</th>\n",
       "      <td>0.000000</td>\n",
       "      <td>0.197145</td>\n",
       "      <td>0.000000</td>\n",
       "      <td>0.487832</td>\n",
       "      <td>0.000000</td>\n",
       "    </tr>\n",
       "    <tr>\n",
       "      <th>1</th>\n",
       "      <td>0.317872</td>\n",
       "      <td>0.013608</td>\n",
       "      <td>0.075917</td>\n",
       "      <td>0.000000</td>\n",
       "      <td>0.000000</td>\n",
       "    </tr>\n",
       "    <tr>\n",
       "      <th>2</th>\n",
       "      <td>0.609094</td>\n",
       "      <td>0.188127</td>\n",
       "      <td>0.209243</td>\n",
       "      <td>0.489802</td>\n",
       "      <td>0.000000</td>\n",
       "    </tr>\n",
       "    <tr>\n",
       "      <th>3</th>\n",
       "      <td>0.605024</td>\n",
       "      <td>0.048484</td>\n",
       "      <td>0.408445</td>\n",
       "      <td>0.312585</td>\n",
       "      <td>0.000000</td>\n",
       "    </tr>\n",
       "    <tr>\n",
       "      <th>4</th>\n",
       "      <td>0.460157</td>\n",
       "      <td>0.035346</td>\n",
       "      <td>0.226972</td>\n",
       "      <td>0.838839</td>\n",
       "      <td>0.000000</td>\n",
       "    </tr>\n",
       "    <tr>\n",
       "      <th>5</th>\n",
       "      <td>0.293174</td>\n",
       "      <td>0.000000</td>\n",
       "      <td>0.207470</td>\n",
       "      <td>0.222160</td>\n",
       "      <td>0.000000</td>\n",
       "    </tr>\n",
       "    <tr>\n",
       "      <th>6</th>\n",
       "      <td>0.344408</td>\n",
       "      <td>0.333050</td>\n",
       "      <td>0.250102</td>\n",
       "      <td>0.384097</td>\n",
       "      <td>0.000000</td>\n",
       "    </tr>\n",
       "    <tr>\n",
       "      <th>7</th>\n",
       "      <td>0.319179</td>\n",
       "      <td>0.017379</td>\n",
       "      <td>0.367629</td>\n",
       "      <td>0.364396</td>\n",
       "      <td>0.000000</td>\n",
       "    </tr>\n",
       "    <tr>\n",
       "      <th>8</th>\n",
       "      <td>0.114271</td>\n",
       "      <td>0.206506</td>\n",
       "      <td>0.239852</td>\n",
       "      <td>0.636297</td>\n",
       "      <td>0.000000</td>\n",
       "    </tr>\n",
       "    <tr>\n",
       "      <th>9</th>\n",
       "      <td>0.128299</td>\n",
       "      <td>0.093090</td>\n",
       "      <td>0.300823</td>\n",
       "      <td>0.330489</td>\n",
       "      <td>0.000000</td>\n",
       "    </tr>\n",
       "    <tr>\n",
       "      <th>10</th>\n",
       "      <td>0.104334</td>\n",
       "      <td>0.345228</td>\n",
       "      <td>0.198675</td>\n",
       "      <td>0.355872</td>\n",
       "      <td>0.000000</td>\n",
       "    </tr>\n",
       "    <tr>\n",
       "      <th>11</th>\n",
       "      <td>0.213124</td>\n",
       "      <td>0.175111</td>\n",
       "      <td>0.391570</td>\n",
       "      <td>0.423159</td>\n",
       "      <td>0.000000</td>\n",
       "    </tr>\n",
       "    <tr>\n",
       "      <th>12</th>\n",
       "      <td>0.736358</td>\n",
       "      <td>0.794948</td>\n",
       "      <td>0.199051</td>\n",
       "      <td>0.812606</td>\n",
       "      <td>0.064381</td>\n",
       "    </tr>\n",
       "    <tr>\n",
       "      <th>13</th>\n",
       "      <td>0.597898</td>\n",
       "      <td>0.469932</td>\n",
       "      <td>0.398604</td>\n",
       "      <td>0.663227</td>\n",
       "      <td>0.019296</td>\n",
       "    </tr>\n",
       "    <tr>\n",
       "      <th>14</th>\n",
       "      <td>1.000000</td>\n",
       "      <td>0.665683</td>\n",
       "      <td>0.559454</td>\n",
       "      <td>0.844682</td>\n",
       "      <td>0.071883</td>\n",
       "    </tr>\n",
       "    <tr>\n",
       "      <th>15</th>\n",
       "      <td>0.833112</td>\n",
       "      <td>0.530734</td>\n",
       "      <td>0.769282</td>\n",
       "      <td>0.709905</td>\n",
       "      <td>0.246589</td>\n",
       "    </tr>\n",
       "    <tr>\n",
       "      <th>16</th>\n",
       "      <td>0.672355</td>\n",
       "      <td>1.000000</td>\n",
       "      <td>0.429523</td>\n",
       "      <td>0.881130</td>\n",
       "      <td>0.272717</td>\n",
       "    </tr>\n",
       "    <tr>\n",
       "      <th>17</th>\n",
       "      <td>0.605584</td>\n",
       "      <td>0.401551</td>\n",
       "      <td>0.819945</td>\n",
       "      <td>0.597010</td>\n",
       "      <td>0.352258</td>\n",
       "    </tr>\n",
       "    <tr>\n",
       "      <th>18</th>\n",
       "      <td>0.606457</td>\n",
       "      <td>0.757860</td>\n",
       "      <td>1.000000</td>\n",
       "      <td>1.000000</td>\n",
       "      <td>1.000000</td>\n",
       "    </tr>\n",
       "  </tbody>\n",
       "</table>\n",
       "</div>"
      ],
      "text/plain": [
       "    3사 Mobile 매출   3사 PC매출    마케팅 비용   게임시장 규모    코로나확진자\n",
       "0       0.000000  0.197145  0.000000  0.487832  0.000000\n",
       "1       0.317872  0.013608  0.075917  0.000000  0.000000\n",
       "2       0.609094  0.188127  0.209243  0.489802  0.000000\n",
       "3       0.605024  0.048484  0.408445  0.312585  0.000000\n",
       "4       0.460157  0.035346  0.226972  0.838839  0.000000\n",
       "5       0.293174  0.000000  0.207470  0.222160  0.000000\n",
       "6       0.344408  0.333050  0.250102  0.384097  0.000000\n",
       "7       0.319179  0.017379  0.367629  0.364396  0.000000\n",
       "8       0.114271  0.206506  0.239852  0.636297  0.000000\n",
       "9       0.128299  0.093090  0.300823  0.330489  0.000000\n",
       "10      0.104334  0.345228  0.198675  0.355872  0.000000\n",
       "11      0.213124  0.175111  0.391570  0.423159  0.000000\n",
       "12      0.736358  0.794948  0.199051  0.812606  0.064381\n",
       "13      0.597898  0.469932  0.398604  0.663227  0.019296\n",
       "14      1.000000  0.665683  0.559454  0.844682  0.071883\n",
       "15      0.833112  0.530734  0.769282  0.709905  0.246589\n",
       "16      0.672355  1.000000  0.429523  0.881130  0.272717\n",
       "17      0.605584  0.401551  0.819945  0.597010  0.352258\n",
       "18      0.606457  0.757860  1.000000  1.000000  1.000000"
      ]
     },
     "execution_count": 42,
     "metadata": {},
     "output_type": "execute_result"
    }
   ],
   "source": [
    "df_normed"
   ]
  },
  {
   "cell_type": "markdown",
   "id": "1add845b",
   "metadata": {},
   "source": [
    "## 2. 회귀분석 "
   ]
  },
  {
   "cell_type": "markdown",
   "id": "bbdfe508",
   "metadata": {},
   "source": [
    "#### 전체 기간(2017~2021) "
   ]
  },
  {
   "cell_type": "markdown",
   "id": "e9ade198",
   "metadata": {},
   "source": [
    "  + (1)회귀 모델 구축"
   ]
  },
  {
   "cell_type": "code",
   "execution_count": 16,
   "id": "33a33db8",
   "metadata": {},
   "outputs": [],
   "source": [
    "import statsmodels.api as sm\n",
    "import statsmodels.formula.api as smf"
   ]
  },
  {
   "cell_type": "code",
   "execution_count": 12,
   "id": "aaa39124",
   "metadata": {},
   "outputs": [],
   "source": [
    "df_normed.columns = [\"삼사Mobile매출\",\"삼사PC매출\",\"마케팅비용\",\"게임시장규모\",\"코로나확진자\"]"
   ]
  },
  {
   "cell_type": "code",
   "execution_count": 13,
   "id": "86f0f4a6",
   "metadata": {},
   "outputs": [
    {
     "name": "stdout",
     "output_type": "stream",
     "text": [
      "Intercept: 0.28257414458811503\n",
      "Coefficients: [0.0440798  0.15353659 0.17754723 0.47818291]\n"
     ]
    }
   ],
   "source": [
    "X = df_normed[['마케팅비용', '삼사Mobile매출','코로나확진자','삼사PC매출']]\n",
    "y = df_normed['게임시장규모']\n",
    "\n",
    "\n",
    "regr = linear_model.LinearRegression()\n",
    "model = regr.fit(X, y)\n",
    "\n",
    "print('Intercept:', model.intercept_)\n",
    "print('Coefficients:', model.coef_)"
   ]
  },
  {
   "cell_type": "markdown",
   "id": "ca03b715",
   "metadata": {},
   "source": [
    "###### 추정된 회귀식 : 0.283 + 0.044마케팅비용 + 0.154삼사 모바일 매출 + 0.178코로나확진자 + 0.478삼사 PC 매출"
   ]
  },
  {
   "cell_type": "markdown",
   "id": "f26e0289",
   "metadata": {},
   "source": [
    " + (2)회귀 모델 검증"
   ]
  },
  {
   "cell_type": "code",
   "execution_count": 23,
   "id": "f76a0671",
   "metadata": {},
   "outputs": [
    {
     "name": "stdout",
     "output_type": "stream",
     "text": [
      "                            OLS Regression Results                            \n",
      "==============================================================================\n",
      "Dep. Variable:                 게임시장규모   R-squared:                       0.629\n",
      "Model:                            OLS   Adj. R-squared:                  0.523\n",
      "Method:                 Least Squares   F-statistic:                     5.929\n",
      "Date:                Fri, 03 Dec 2021   Prob (F-statistic):            0.00525\n",
      "Time:                        14:58:02   Log-Likelihood:                 8.4085\n",
      "No. Observations:                  19   AIC:                            -6.817\n",
      "Df Residuals:                      14   BIC:                            -2.095\n",
      "Df Model:                           4                                         \n",
      "Covariance Type:            nonrobust                                         \n",
      "==============================================================================\n",
      "                 coef    std err          t      P>|t|      [0.025      0.975]\n",
      "------------------------------------------------------------------------------\n",
      "const          0.2826      0.099      2.853      0.013       0.070       0.495\n",
      "마케팅비용          0.0441      0.346      0.128      0.900      -0.697       0.785\n",
      "삼사PC매출         0.4782      0.213      2.247      0.041       0.022       0.935\n",
      "코로나확진자         0.1775      0.356      0.499      0.625      -0.585       0.940\n",
      "삼사Mobile매출     0.1535      0.241      0.638      0.534      -0.363       0.670\n",
      "==============================================================================\n",
      "Omnibus:                        9.287   Durbin-Watson:                   2.537\n",
      "Prob(Omnibus):                  0.010   Jarque-Bera (JB):                7.594\n",
      "Skew:                           0.891   Prob(JB):                       0.0224\n",
      "Kurtosis:                       5.533   Cond. No.                         15.0\n",
      "==============================================================================\n",
      "\n",
      "Notes:\n",
      "[1] Standard Errors assume that the covariance matrix of the errors is correctly specified.\n"
     ]
    }
   ],
   "source": [
    "X = df_normed[['마케팅비용', '삼사PC매출', '코로나확진자','삼사Mobile매출']]\n",
    "X = sm.add_constant(X) # adding a constant\n",
    "\n",
    "olsmod = sm.OLS(df_normed['게임시장규모'], X).fit()\n",
    "print(olsmod.summary())"
   ]
  },
  {
   "cell_type": "code",
   "execution_count": 30,
   "id": "ddb17a4c",
   "metadata": {},
   "outputs": [
    {
     "name": "stdout",
     "output_type": "stream",
     "text": [
      "                            OLS Regression Results                            \n",
      "==============================================================================\n",
      "Dep. Variable:                 게임시장규모   R-squared:                       0.581\n",
      "Model:                            OLS   Adj. R-squared:                  0.557\n",
      "Method:                 Least Squares   F-statistic:                     23.59\n",
      "Date:                Fri, 03 Dec 2021   Prob (F-statistic):           0.000148\n",
      "Time:                        15:00:38   Log-Likelihood:                 7.2613\n",
      "No. Observations:                  19   AIC:                            -10.52\n",
      "Df Residuals:                      17   BIC:                            -8.634\n",
      "Df Model:                           1                                         \n",
      "Covariance Type:            nonrobust                                         \n",
      "==============================================================================\n",
      "                 coef    std err          t      P>|t|      [0.025      0.975]\n",
      "------------------------------------------------------------------------------\n",
      "const          0.3258      0.060      5.401      0.000       0.199       0.453\n",
      "삼사PC매출         0.6636      0.137      4.857      0.000       0.375       0.952\n",
      "==============================================================================\n",
      "Omnibus:                        8.658   Durbin-Watson:                   2.231\n",
      "Prob(Omnibus):                  0.013   Jarque-Bera (JB):                6.544\n",
      "Skew:                           0.885   Prob(JB):                       0.0379\n",
      "Kurtosis:                       5.265   Cond. No.                         3.82\n",
      "==============================================================================\n",
      "\n",
      "Notes:\n",
      "[1] Standard Errors assume that the covariance matrix of the errors is correctly specified.\n"
     ]
    }
   ],
   "source": [
    "X = df_normed[[ '삼사PC매출']]\n",
    "X = sm.add_constant(X) # adding a constant\n",
    "\n",
    "olsmod = sm.OLS(df_normed['게임시장규모'], X).fit()\n",
    "print(olsmod.summary())\n",
    "\n",
    "# PC만을 따로 빼서 분석해보니 매우 유의함."
   ]
  },
  {
   "cell_type": "markdown",
   "id": "f2aca3d1",
   "metadata": {},
   "source": [
    "###### 전체기간 동안 게임 시장 규모에 유의한 독립변수는 삼사PC 매출 1가지 변수만이 유의 함\n",
    "###### 조정된 결정계수 R2값이 0.523 즉, 이 모형으로 52.3%를 설명할 수 있음.\n",
    "###### 추정된 회귀식\n",
    "+ 게임시장 규모 =0.2826 + 0.478 * 3사 PC게임 매출"
   ]
  },
  {
   "cell_type": "markdown",
   "id": "5545bf28",
   "metadata": {},
   "source": [
    " + (3)선형성 검정"
   ]
  },
  {
   "cell_type": "code",
   "execution_count": 19,
   "id": "80236054",
   "metadata": {},
   "outputs": [
    {
     "data": {
      "text/html": [
       "<div>\n",
       "<style scoped>\n",
       "    .dataframe tbody tr th:only-of-type {\n",
       "        vertical-align: middle;\n",
       "    }\n",
       "\n",
       "    .dataframe tbody tr th {\n",
       "        vertical-align: top;\n",
       "    }\n",
       "\n",
       "    .dataframe thead th {\n",
       "        text-align: right;\n",
       "    }\n",
       "</style>\n",
       "<table border=\"1\" class=\"dataframe\">\n",
       "  <thead>\n",
       "    <tr style=\"text-align: right;\">\n",
       "      <th></th>\n",
       "      <th>삼사Mobile매출</th>\n",
       "      <th>삼사PC매출</th>\n",
       "      <th>마케팅비용</th>\n",
       "      <th>게임시장규모</th>\n",
       "      <th>코로나확진자</th>\n",
       "      <th>게임시장_pred</th>\n",
       "      <th>residual</th>\n",
       "    </tr>\n",
       "  </thead>\n",
       "  <tbody>\n",
       "    <tr>\n",
       "      <th>0</th>\n",
       "      <td>0.000000</td>\n",
       "      <td>0.197145</td>\n",
       "      <td>0.000000</td>\n",
       "      <td>0.487832</td>\n",
       "      <td>0.0</td>\n",
       "      <td>0.376845</td>\n",
       "      <td>0.110987</td>\n",
       "    </tr>\n",
       "    <tr>\n",
       "      <th>1</th>\n",
       "      <td>0.317872</td>\n",
       "      <td>0.013608</td>\n",
       "      <td>0.075917</td>\n",
       "      <td>0.000000</td>\n",
       "      <td>0.0</td>\n",
       "      <td>0.341233</td>\n",
       "      <td>-0.341233</td>\n",
       "    </tr>\n",
       "    <tr>\n",
       "      <th>2</th>\n",
       "      <td>0.609094</td>\n",
       "      <td>0.188127</td>\n",
       "      <td>0.209243</td>\n",
       "      <td>0.489802</td>\n",
       "      <td>0.0</td>\n",
       "      <td>0.475275</td>\n",
       "      <td>0.014527</td>\n",
       "    </tr>\n",
       "    <tr>\n",
       "      <th>3</th>\n",
       "      <td>0.605024</td>\n",
       "      <td>0.048484</td>\n",
       "      <td>0.408445</td>\n",
       "      <td>0.312585</td>\n",
       "      <td>0.0</td>\n",
       "      <td>0.416656</td>\n",
       "      <td>-0.104071</td>\n",
       "    </tr>\n",
       "    <tr>\n",
       "      <th>4</th>\n",
       "      <td>0.460157</td>\n",
       "      <td>0.035346</td>\n",
       "      <td>0.226972</td>\n",
       "      <td>0.838839</td>\n",
       "      <td>0.0</td>\n",
       "      <td>0.380132</td>\n",
       "      <td>0.458707</td>\n",
       "    </tr>\n",
       "  </tbody>\n",
       "</table>\n",
       "</div>"
      ],
      "text/plain": [
       "   삼사Mobile매출    삼사PC매출     마케팅비용    게임시장규모  코로나확진자  게임시장_pred  residual\n",
       "0    0.000000  0.197145  0.000000  0.487832     0.0   0.376845  0.110987\n",
       "1    0.317872  0.013608  0.075917  0.000000     0.0   0.341233 -0.341233\n",
       "2    0.609094  0.188127  0.209243  0.489802     0.0   0.475275  0.014527\n",
       "3    0.605024  0.048484  0.408445  0.312585     0.0   0.416656 -0.104071\n",
       "4    0.460157  0.035346  0.226972  0.838839     0.0   0.380132  0.458707"
      ]
     },
     "execution_count": 19,
     "metadata": {},
     "output_type": "execute_result"
    }
   ],
   "source": [
    "df_normed2 = df_normed\n",
    "df_normed2['게임시장_pred'] = olsmod.predict(X) # 예측값 추가 한 뒤 실제값과 비교하기\n",
    "df_normed2['residual'] = olsmod.resid\n",
    "df_normed2.head()"
   ]
  },
  {
   "cell_type": "code",
   "execution_count": 20,
   "id": "03bdd41c",
   "metadata": {},
   "outputs": [
    {
     "data": {
      "image/png": "[encoded data removed]",
      "text/plain": [
       "<Figure size 360x360 with 1 Axes>"
      ]
     },
     "metadata": {},
     "output_type": "display_data"
    }
   ],
   "source": [
    "sns.lmplot(x='게임시장규모', y='게임시장_pred', data=df_normed2, fit_reg=False, size=5)\n",
    "    \n",
    "# Plotting the diagonal line\n",
    "line_coords = np.arange(df_normed2[['게임시장규모', '게임시장_pred']].min().min()-10, \n",
    "                        df_normed2[['게임시장규모', '게임시장_pred']].max().max()+10)\n",
    "plt.plot(line_coords, line_coords,  # X and y points\n",
    "         color='darkorange', linestyle='--')\n",
    "\n",
    "plt.ylabel('예측된 게임시장규모', fontsize=14)\n",
    "plt.xlabel('실제 게임시장규모', fontsize=14)\n",
    "plt.title('Linearity Assumption', fontsize=16)\n",
    "plt.show()"
   ]
  },
  {
   "cell_type": "markdown",
   "id": "c67c1a6c",
   "metadata": {},
   "source": [
    "###### 회귀선과 거의 일치하는 예측 값  즉 , 선형성 만족"
   ]
  },
  {
   "cell_type": "markdown",
   "id": "9537b9f9",
   "metadata": {},
   "source": [
    " + (4) 정규성 검정"
   ]
  },
  {
   "cell_type": "code",
   "execution_count": 31,
   "id": "082adcb8",
   "metadata": {},
   "outputs": [
    {
     "name": "stdout",
     "output_type": "stream",
     "text": [
      "검정통계량: 0.9131786227226257\n",
      "p값: 0.08468815684318542\n"
     ]
    }
   ],
   "source": [
    "from scipy.stats import shapiro\n",
    "from scipy.stats import norm\n",
    "from scipy import stats\n",
    "from statsmodels.formula.api import ols\n",
    "## Shapiro-Wilks test\n",
    "## 선형 모형 적합\n",
    "fit = ols('게임시장규모 ~ 삼사PC매출',data=df_normed).fit()\n",
    " \n",
    "## 이론상 잔차값 계산\n",
    "sqrt_mse = np.sqrt(fit.mse_resid) ## square root of mse\n",
    "std_res = fit.resid/sqrt_mse ## studentized residual\n",
    " \n",
    "## Shapiro-Wilks 테스트의 검정통계량과 p-value를 계산한다.\n",
    "shapiro_test = stats.shapiro(std_res)\n",
    " \n",
    "sw_stat = shapiro_test[0] ## S-W 검정 통계량\n",
    "p_value = shapiro_test[1] ## p_value\n",
    "\n",
    "print(\"검정통계량:\", sw_stat) # 검정통계량 값 1에 가까움\n",
    "print(\"p값:\", p_value) # 귀무가설 채택 즉, 정규성을 만족한다고 할 수 있음"
   ]
  },
  {
   "cell_type": "markdown",
   "id": "b7b61c90",
   "metadata": {},
   "source": [
    "###### 정규성 만족"
   ]
  },
  {
   "cell_type": "code",
   "execution_count": 36,
   "id": "6524b4e5",
   "metadata": {},
   "outputs": [
    {
     "data": {
      "image/png": "[encoded data removed]",
      "text/plain": [
       "<Figure size 576x288 with 1 Axes>"
      ]
     },
     "metadata": {},
     "output_type": "display_data"
    }
   ],
   "source": [
    "plt.subplots(figsize=(8, 4))\n",
    "plt.scatter(x=df_normed.index, y=df_normed.residual, alpha=0.8)\n",
    "plt.plot(np.repeat(0, len(df_normed.index)+2), color='darkorange', linestyle='--')\n",
    "\n",
    "plt.ylabel('잔차', fontsize=14)\n",
    "plt.xlabel('Week', fontsize=14)\n",
    "plt.show()  "
   ]
  },
  {
   "cell_type": "markdown",
   "id": "adf49f41",
   "metadata": {},
   "source": [
    "###### 잔차의 분산이 퍼져있음. 등분산성 만족"
   ]
  },
  {
   "cell_type": "markdown",
   "id": "26806b43",
   "metadata": {},
   "source": [
    "###### 즉, 코로나 유무 상관 없이 모든 기간에서는 게임시장 규모 =0.2826 + 0.478 * 3사 PC게임 매출 의 회귀식을 도출하였음."
   ]
  },
  {
   "cell_type": "markdown",
   "id": "04512046",
   "metadata": {},
   "source": [
    "#### 코로나 기간(2020-2021)"
   ]
  },
  {
   "cell_type": "markdown",
   "id": "13f084fa",
   "metadata": {},
   "source": [
    "  + (1)회귀 모델 구축"
   ]
  },
  {
   "cell_type": "code",
   "execution_count": 45,
   "id": "a7f9771d",
   "metadata": {},
   "outputs": [
    {
     "data": {
      "text/html": [
       "<div>\n",
       "<style scoped>\n",
       "    .dataframe tbody tr th:only-of-type {\n",
       "        vertical-align: middle;\n",
       "    }\n",
       "\n",
       "    .dataframe tbody tr th {\n",
       "        vertical-align: top;\n",
       "    }\n",
       "\n",
       "    .dataframe thead th {\n",
       "        text-align: right;\n",
       "    }\n",
       "</style>\n",
       "<table border=\"1\" class=\"dataframe\">\n",
       "  <thead>\n",
       "    <tr style=\"text-align: right;\">\n",
       "      <th></th>\n",
       "      <th>삼사Mobile매출</th>\n",
       "      <th>삼사PC매출</th>\n",
       "      <th>마케팅비용</th>\n",
       "      <th>게임시장규모</th>\n",
       "      <th>코로나확진자</th>\n",
       "    </tr>\n",
       "  </thead>\n",
       "  <tbody>\n",
       "    <tr>\n",
       "      <th>12</th>\n",
       "      <td>0.736358</td>\n",
       "      <td>0.794948</td>\n",
       "      <td>0.199051</td>\n",
       "      <td>0.812606</td>\n",
       "      <td>0.064381</td>\n",
       "    </tr>\n",
       "    <tr>\n",
       "      <th>13</th>\n",
       "      <td>0.597898</td>\n",
       "      <td>0.469932</td>\n",
       "      <td>0.398604</td>\n",
       "      <td>0.663227</td>\n",
       "      <td>0.019296</td>\n",
       "    </tr>\n",
       "    <tr>\n",
       "      <th>14</th>\n",
       "      <td>1.000000</td>\n",
       "      <td>0.665683</td>\n",
       "      <td>0.559454</td>\n",
       "      <td>0.844682</td>\n",
       "      <td>0.071883</td>\n",
       "    </tr>\n",
       "    <tr>\n",
       "      <th>15</th>\n",
       "      <td>0.833112</td>\n",
       "      <td>0.530734</td>\n",
       "      <td>0.769282</td>\n",
       "      <td>0.709905</td>\n",
       "      <td>0.246589</td>\n",
       "    </tr>\n",
       "    <tr>\n",
       "      <th>16</th>\n",
       "      <td>0.672355</td>\n",
       "      <td>1.000000</td>\n",
       "      <td>0.429523</td>\n",
       "      <td>0.881130</td>\n",
       "      <td>0.272717</td>\n",
       "    </tr>\n",
       "    <tr>\n",
       "      <th>17</th>\n",
       "      <td>0.605584</td>\n",
       "      <td>0.401551</td>\n",
       "      <td>0.819945</td>\n",
       "      <td>0.597010</td>\n",
       "      <td>0.352258</td>\n",
       "    </tr>\n",
       "    <tr>\n",
       "      <th>18</th>\n",
       "      <td>0.606457</td>\n",
       "      <td>0.757860</td>\n",
       "      <td>1.000000</td>\n",
       "      <td>1.000000</td>\n",
       "      <td>1.000000</td>\n",
       "    </tr>\n",
       "  </tbody>\n",
       "</table>\n",
       "</div>"
      ],
      "text/plain": [
       "    삼사Mobile매출    삼사PC매출     마케팅비용    게임시장규모    코로나확진자\n",
       "12    0.736358  0.794948  0.199051  0.812606  0.064381\n",
       "13    0.597898  0.469932  0.398604  0.663227  0.019296\n",
       "14    1.000000  0.665683  0.559454  0.844682  0.071883\n",
       "15    0.833112  0.530734  0.769282  0.709905  0.246589\n",
       "16    0.672355  1.000000  0.429523  0.881130  0.272717\n",
       "17    0.605584  0.401551  0.819945  0.597010  0.352258\n",
       "18    0.606457  0.757860  1.000000  1.000000  1.000000"
      ]
     },
     "execution_count": 45,
     "metadata": {},
     "output_type": "execute_result"
    }
   ],
   "source": [
    "df_normed2 = df_normed[12:] # 코로나 이후\n",
    "df_normed2.columns = [\"삼사Mobile매출\",\"삼사PC매출\",\"마케팅비용\",\"게임시장규모\",\"코로나확진자\"]\n",
    "df_normed2"
   ]
  },
  {
   "cell_type": "code",
   "execution_count": 47,
   "id": "b04e8a2a",
   "metadata": {},
   "outputs": [
    {
     "name": "stdout",
     "output_type": "stream",
     "text": [
      "Intercept: 0.3854315239748052\n",
      "Coefficients: [-0.41347962  0.51848539  0.57687073  0.16199203]\n"
     ]
    }
   ],
   "source": [
    "X = df_normed2[['마케팅비용', '삼사Mobile매출','코로나확진자','삼사PC매출']]\n",
    "y = df_normed2['게임시장규모']\n",
    "\n",
    "\n",
    "regr = linear_model.LinearRegression()\n",
    "model = regr.fit(X, y)\n",
    "\n",
    "print('Intercept:', model.intercept_)\n",
    "print('Coefficients:', model.coef_)"
   ]
  },
  {
   "cell_type": "markdown",
   "id": "7120d6b8",
   "metadata": {},
   "source": [
    "###### 추정된 회귀식 : 0.385 -0.413마케팅비용 + 0.518삼사 모바일 매출 + 0.577코로나확진자 + 0.162삼사 PC 매출"
   ]
  },
  {
   "cell_type": "markdown",
   "id": "f8a4297b",
   "metadata": {},
   "source": [
    " + (2)회귀 모델 검증"
   ]
  },
  {
   "cell_type": "code",
   "execution_count": 50,
   "id": "807fdf32",
   "metadata": {},
   "outputs": [
    {
     "name": "stdout",
     "output_type": "stream",
     "text": [
      "                            OLS Regression Results                            \n",
      "==============================================================================\n",
      "Dep. Variable:                 게임시장규모   R-squared:                       0.952\n",
      "Model:                            OLS   Adj. R-squared:                  0.855\n",
      "Method:                 Least Squares   F-statistic:                     9.869\n",
      "Date:                Fri, 03 Dec 2021   Prob (F-statistic):             0.0941\n",
      "Time:                        15:13:54   Log-Likelihood:                 15.043\n",
      "No. Observations:                   7   AIC:                            -20.09\n",
      "Df Residuals:                       2   BIC:                            -20.36\n",
      "Df Model:                           4                                         \n",
      "Covariance Type:            nonrobust                                         \n",
      "==============================================================================\n",
      "                 coef    std err          t      P>|t|      [0.025      0.975]\n",
      "------------------------------------------------------------------------------\n",
      "const          0.3854      0.172      2.242      0.154      -0.354       1.125\n",
      "마케팅비용         -0.4135      0.269     -1.538      0.264      -1.570       0.743\n",
      "삼사PC매출         0.1620      0.215      0.755      0.529      -0.761       1.085\n",
      "코로나확진자         0.5769      0.235      2.454      0.134      -0.435       1.588\n",
      "삼사Mobile매출     0.5185      0.221      2.347      0.144      -0.432       1.469\n",
      "==============================================================================\n",
      "Omnibus:                          nan   Durbin-Watson:                   2.352\n",
      "Prob(Omnibus):                    nan   Jarque-Bera (JB):                0.465\n",
      "Skew:                           0.095   Prob(JB):                        0.793\n",
      "Kurtosis:                       1.752   Cond. No.                         34.9\n",
      "==============================================================================\n",
      "\n",
      "Notes:\n",
      "[1] Standard Errors assume that the covariance matrix of the errors is correctly specified.\n"
     ]
    },
    {
     "name": "stderr",
     "output_type": "stream",
     "text": [
      "C:\\Users\\aapcl\\AppData\\Local\\Programs\\Python\\Python39\\lib\\site-packages\\statsmodels\\stats\\stattools.py:74: ValueWarning: omni_normtest is not valid with less than 8 observations; 7 samples were given.\n",
      "  warn(\"omni_normtest is not valid with less than 8 observations; %i \"\n"
     ]
    }
   ],
   "source": [
    "X = df_normed2[['마케팅비용', '삼사PC매출', '코로나확진자','삼사Mobile매출']]\n",
    "X = sm.add_constant(X) # adding a constant\n",
    "\n",
    "olsmod = sm.OLS(df_normed2['게임시장규모'], X).fit()\n",
    "print(olsmod.summary())"
   ]
  },
  {
   "cell_type": "code",
   "execution_count": null,
   "id": "e3bd1b92",
   "metadata": {},
   "outputs": [],
   "source": [
    "# pc 매출과 가장 상관이 없음. pc매출을 제외하고 다시 회귀분석"
   ]
  },
  {
   "cell_type": "code",
   "execution_count": 51,
   "id": "383392fd",
   "metadata": {},
   "outputs": [
    {
     "name": "stdout",
     "output_type": "stream",
     "text": [
      "                            OLS Regression Results                            \n",
      "==============================================================================\n",
      "Dep. Variable:                 게임시장규모   R-squared:                       0.938\n",
      "Model:                            OLS   Adj. R-squared:                  0.876\n",
      "Method:                 Least Squares   F-statistic:                     15.14\n",
      "Date:                Fri, 03 Dec 2021   Prob (F-statistic):             0.0257\n",
      "Time:                        15:14:35   Log-Likelihood:                 14.165\n",
      "No. Observations:                   7   AIC:                            -20.33\n",
      "Df Residuals:                       3   BIC:                            -20.55\n",
      "Df Model:                           3                                         \n",
      "Covariance Type:            nonrobust                                         \n",
      "==============================================================================\n",
      "                 coef    std err          t      P>|t|      [0.025      0.975]\n",
      "------------------------------------------------------------------------------\n",
      "const          0.4739      0.116      4.074      0.027       0.104       0.844\n",
      "마케팅비용         -0.5900      0.123     -4.804      0.017      -0.981      -0.199\n",
      "코로나확진자         0.7298      0.110      6.614      0.007       0.379       1.081\n",
      "삼사Mobile매출     0.6285      0.154      4.089      0.026       0.139       1.118\n",
      "==============================================================================\n",
      "Omnibus:                          nan   Durbin-Watson:                   2.527\n",
      "Prob(Omnibus):                    nan   Jarque-Bera (JB):                0.560\n",
      "Skew:                          -0.343   Prob(JB):                        0.756\n",
      "Kurtosis:                       1.796   Cond. No.                         15.3\n",
      "==============================================================================\n",
      "\n",
      "Notes:\n",
      "[1] Standard Errors assume that the covariance matrix of the errors is correctly specified.\n"
     ]
    },
    {
     "name": "stderr",
     "output_type": "stream",
     "text": [
      "C:\\Users\\aapcl\\AppData\\Local\\Programs\\Python\\Python39\\lib\\site-packages\\statsmodels\\stats\\stattools.py:74: ValueWarning: omni_normtest is not valid with less than 8 observations; 7 samples were given.\n",
      "  warn(\"omni_normtest is not valid with less than 8 observations; %i \"\n"
     ]
    }
   ],
   "source": [
    "X = df_normed2[['마케팅비용', '코로나확진자','삼사Mobile매출']]\n",
    "X = sm.add_constant(X) # adding a constant\n",
    "\n",
    "olsmod = sm.OLS(df_normed2['게임시장규모'], X).fit()\n",
    "print(olsmod.summary())"
   ]
  },
  {
   "cell_type": "markdown",
   "id": "233e4e20",
   "metadata": {},
   "source": [
    "###### 코로나기간 동안 게임 시장 규모에 유의한 독립변수는 삼사모바일매출, 마케팅비용, 코로나확진자 변수가 유의 함\n",
    "###### 조정된 결정계수 R2값이 0.876 즉, 이 모형으로 87.6%를 설명할 수 있음.\n",
    "###### 추정된 회귀식\n",
    "+ 게임시장 규모 =0.4739 + 0.629 * 3사 모바일 게임 매출 + 0.73* 코로나확진자 - 0.59 * 마케팅비용"
   ]
  },
  {
   "cell_type": "markdown",
   "id": "be3f1808",
   "metadata": {},
   "source": [
    " + (3)선형성 검정"
   ]
  },
  {
   "cell_type": "code",
   "execution_count": 80,
   "id": "faf346bc",
   "metadata": {},
   "outputs": [
    {
     "data": {
      "text/html": [
       "<div>\n",
       "<style scoped>\n",
       "    .dataframe tbody tr th:only-of-type {\n",
       "        vertical-align: middle;\n",
       "    }\n",
       "\n",
       "    .dataframe tbody tr th {\n",
       "        vertical-align: top;\n",
       "    }\n",
       "\n",
       "    .dataframe thead th {\n",
       "        text-align: right;\n",
       "    }\n",
       "</style>\n",
       "<table border=\"1\" class=\"dataframe\">\n",
       "  <thead>\n",
       "    <tr style=\"text-align: right;\">\n",
       "      <th></th>\n",
       "      <th>삼사Mobile매출</th>\n",
       "      <th>마케팅비용</th>\n",
       "      <th>게임시장규모</th>\n",
       "      <th>코로나확진자</th>\n",
       "      <th>게임시장_pred</th>\n",
       "      <th>residual</th>\n",
       "    </tr>\n",
       "  </thead>\n",
       "  <tbody>\n",
       "    <tr>\n",
       "      <th>12</th>\n",
       "      <td>0.736358</td>\n",
       "      <td>0.199051</td>\n",
       "      <td>0.812606</td>\n",
       "      <td>0.064381</td>\n",
       "      <td>0.866307</td>\n",
       "      <td>-0.053701</td>\n",
       "    </tr>\n",
       "    <tr>\n",
       "      <th>13</th>\n",
       "      <td>0.597898</td>\n",
       "      <td>0.398604</td>\n",
       "      <td>0.663227</td>\n",
       "      <td>0.019296</td>\n",
       "      <td>0.628653</td>\n",
       "      <td>0.034575</td>\n",
       "    </tr>\n",
       "    <tr>\n",
       "      <th>14</th>\n",
       "      <td>1.000000</td>\n",
       "      <td>0.559454</td>\n",
       "      <td>0.844682</td>\n",
       "      <td>0.071883</td>\n",
       "      <td>0.824861</td>\n",
       "      <td>0.019821</td>\n",
       "    </tr>\n",
       "    <tr>\n",
       "      <th>15</th>\n",
       "      <td>0.833112</td>\n",
       "      <td>0.769282</td>\n",
       "      <td>0.709905</td>\n",
       "      <td>0.246589</td>\n",
       "      <td>0.723686</td>\n",
       "      <td>-0.013781</td>\n",
       "    </tr>\n",
       "    <tr>\n",
       "      <th>16</th>\n",
       "      <td>0.672355</td>\n",
       "      <td>0.429523</td>\n",
       "      <td>0.881130</td>\n",
       "      <td>0.272717</td>\n",
       "      <td>0.842161</td>\n",
       "      <td>0.038969</td>\n",
       "    </tr>\n",
       "  </tbody>\n",
       "</table>\n",
       "</div>"
      ],
      "text/plain": [
       "    삼사Mobile매출     마케팅비용    게임시장규모    코로나확진자  게임시장_pred  residual\n",
       "12    0.736358  0.199051  0.812606  0.064381   0.866307 -0.053701\n",
       "13    0.597898  0.398604  0.663227  0.019296   0.628653  0.034575\n",
       "14    1.000000  0.559454  0.844682  0.071883   0.824861  0.019821\n",
       "15    0.833112  0.769282  0.709905  0.246589   0.723686 -0.013781\n",
       "16    0.672355  0.429523  0.881130  0.272717   0.842161  0.038969"
      ]
     },
     "execution_count": 80,
     "metadata": {},
     "output_type": "execute_result"
    }
   ],
   "source": [
    "df_normed3['게임시장_pred'] = olsmod.predict(X) # 예측값 추가 한 뒤 실제값과 비교하기\n",
    "df_normed3['residual'] = olsmod.resid\n",
    "df_normed3.head()"
   ]
  },
  {
   "cell_type": "code",
   "execution_count": 79,
   "id": "e161a8f0",
   "metadata": {},
   "outputs": [],
   "source": [
    "df_normed3 = df_normed2.loc[:,(\"삼사Mobile매출\", \"마케팅비용\", \"게임시장규모\", \"코로나확진자\")]"
   ]
  },
  {
   "cell_type": "code",
   "execution_count": 81,
   "id": "c278184a",
   "metadata": {},
   "outputs": [
    {
     "data": {
      "image/png": "[encoded data removed]",
      "text/plain": [
       "<Figure size 360x360 with 1 Axes>"
      ]
     },
     "metadata": {},
     "output_type": "display_data"
    }
   ],
   "source": [
    "sns.lmplot(x='게임시장규모', y='게임시장_pred', data=df_normed3, fit_reg=False, size=5)\n",
    "    \n",
    "# Plotting the diagonal line\n",
    "line_coords = np.arange(df_normed3[['게임시장규모', '게임시장_pred']].min().min()-10, \n",
    "                        df_normed3[['게임시장규모', '게임시장_pred']].max().max()+10)\n",
    "plt.plot(line_coords, line_coords,  # X and y points\n",
    "         color='darkorange', linestyle='--')\n",
    "\n",
    "plt.ylabel('예측된 게임시장규모', fontsize=14)\n",
    "plt.xlabel('실제 게임시장규모', fontsize=14)\n",
    "plt.title('Linearity Assumption', fontsize=16)\n",
    "plt.show()"
   ]
  },
  {
   "cell_type": "markdown",
   "id": "dc0ecb38",
   "metadata": {},
   "source": [
    "###### 회귀선과 거의 일치하는 예측 값  즉 , 선형성 만족"
   ]
  },
  {
   "cell_type": "markdown",
   "id": "8b5b06c4",
   "metadata": {},
   "source": [
    " + (4) 정규성 검정"
   ]
  },
  {
   "cell_type": "code",
   "execution_count": 82,
   "id": "979dd299",
   "metadata": {},
   "outputs": [
    {
     "name": "stdout",
     "output_type": "stream",
     "text": [
      "검정통계량: 0.9464908838272095\n",
      "p값: 0.6976869106292725\n"
     ]
    }
   ],
   "source": [
    "fit = ols('게임시장규모 ~ 삼사Mobile매출 + 마케팅비용 + 코로나확진자',data=df_normed3).fit()\n",
    " \n",
    "## 이론상 잔차값 계산\n",
    "sqrt_mse = np.sqrt(fit.mse_resid) ## square root of mse\n",
    "std_res = fit.resid/sqrt_mse ## studentized residual\n",
    " \n",
    "## Shapiro-Wilks 테스트의 검정통계량과 p-value를 계산한다.\n",
    "shapiro_test = stats.shapiro(std_res)\n",
    " \n",
    "sw_stat = shapiro_test[0] ## S-W 검정 통계량\n",
    "p_value = shapiro_test[1] ## p_value\n",
    "\n",
    "print(\"검정통계량:\", sw_stat) # 검정통계량 값 1에 가까움\n",
    "print(\"p값:\", p_value) # 귀무가설 채택 즉, 정규성을 만족한다고 할 수 있음"
   ]
  },
  {
   "cell_type": "markdown",
   "id": "cdb74f3d",
   "metadata": {},
   "source": [
    "###### 정규성 만족"
   ]
  },
  {
   "cell_type": "markdown",
   "id": "d9633776",
   "metadata": {},
   "source": [
    " + (5) 등분산성 검정"
   ]
  },
  {
   "cell_type": "code",
   "execution_count": 85,
   "id": "923644e7",
   "metadata": {},
   "outputs": [
    {
     "data": {
      "image/png": "[encoded data removed]",
      "text/plain": [
       "<Figure size 576x288 with 1 Axes>"
      ]
     },
     "metadata": {},
     "output_type": "display_data"
    }
   ],
   "source": [
    "plt.subplots(figsize=(8, 4))\n",
    "plt.scatter(x=df_normed3.index, y=df_normed3.residual, alpha=0.8)\n",
    "\n",
    "plt.ylabel('잔차', fontsize=14)\n",
    "plt.xlabel('Week', fontsize=14)\n",
    "plt.show()  "
   ]
  },
  {
   "cell_type": "markdown",
   "id": "e7c11d28",
   "metadata": {},
   "source": [
    "###### 잔차가 일정하지 않고 퍼져있음 -> 등분산성 가정 충족"
   ]
  },
  {
   "cell_type": "markdown",
   "id": "e2fbc9b3",
   "metadata": {},
   "source": [
    " + (6) 다중공선성 검정"
   ]
  },
  {
   "cell_type": "code",
   "execution_count": 88,
   "id": "22628de5",
   "metadata": {},
   "outputs": [
    {
     "data": {
      "text/plain": [
       "<bound method RegressionResults.summary of <statsmodels.regression.linear_model.OLSResults object at 0x0000018988C753A0>>"
      ]
     },
     "execution_count": 88,
     "metadata": {},
     "output_type": "execute_result"
    }
   ],
   "source": [
    "lm = sm.OLS(df_normed3[\"게임시장규모\"],df_normed3[[\"삼사Mobile매출\", \"마케팅비용\", \"코로나확진자\"]])\n",
    "results = lm.fit()\n",
    "results.summary"
   ]
  },
  {
   "cell_type": "code",
   "execution_count": 89,
   "id": "0caa7e67",
   "metadata": {},
   "outputs": [
    {
     "data": {
      "text/html": [
       "<div>\n",
       "<style scoped>\n",
       "    .dataframe tbody tr th:only-of-type {\n",
       "        vertical-align: middle;\n",
       "    }\n",
       "\n",
       "    .dataframe tbody tr th {\n",
       "        vertical-align: top;\n",
       "    }\n",
       "\n",
       "    .dataframe thead th {\n",
       "        text-align: right;\n",
       "    }\n",
       "</style>\n",
       "<table border=\"1\" class=\"dataframe\">\n",
       "  <thead>\n",
       "    <tr style=\"text-align: right;\">\n",
       "      <th></th>\n",
       "      <th>VIF Factor</th>\n",
       "      <th>features</th>\n",
       "    </tr>\n",
       "  </thead>\n",
       "  <tbody>\n",
       "    <tr>\n",
       "      <th>0</th>\n",
       "      <td>39.686925</td>\n",
       "      <td>Intercept</td>\n",
       "    </tr>\n",
       "    <tr>\n",
       "      <th>1</th>\n",
       "      <td>2.963330</td>\n",
       "      <td>마케팅비용</td>\n",
       "    </tr>\n",
       "    <tr>\n",
       "      <th>2</th>\n",
       "      <td>1.332534</td>\n",
       "      <td>삼사Mobile매출</td>\n",
       "    </tr>\n",
       "    <tr>\n",
       "      <th>3</th>\n",
       "      <td>3.478823</td>\n",
       "      <td>코로나확진자</td>\n",
       "    </tr>\n",
       "  </tbody>\n",
       "</table>\n",
       "</div>"
      ],
      "text/plain": [
       "   VIF Factor    features\n",
       "0   39.686925   Intercept\n",
       "1    2.963330       마케팅비용\n",
       "2    1.332534  삼사Mobile매출\n",
       "3    3.478823      코로나확진자"
      ]
     },
     "execution_count": 89,
     "metadata": {},
     "output_type": "execute_result"
    }
   ],
   "source": [
    "y, X = dmatrices('게임시장규모 ~  마케팅비용 + 삼사Mobile매출 + 코로나확진자', df_normed2, return_type = 'dataframe')\n",
    "\n",
    "vif = pd.DataFrame()\n",
    "vif[\"VIF Factor\"] = [variance_inflation_factor(X.values, i) for i in range(X.shape[1])]\n",
    "vif[\"features\"] = X.columns \n",
    "vif"
   ]
  },
  {
   "cell_type": "markdown",
   "id": "6ec1faf9",
   "metadata": {},
   "source": [
    "###### vif가 10 이상이면 다중공선성이 있다고 봄. 상수항 제외 나머지 독립변수들은 vif지수가 10아래임.\n",
    " - 상수항은 강사님께 여쭤보기 -> 결과: 상수항 제거"
   ]
  },
  {
   "cell_type": "markdown",
   "id": "9aad65a2",
   "metadata": {},
   "source": [
    "###### 즉, 코로나 기간에서는 게임시장 규모 =0.4739 + 0.629 * 3사 모바일 게임 매출 + 0.73* 코로나확진자 - 0.59 * 마케팅비용의 회귀식을 도출함"
   ]
  },
  {
   "cell_type": "markdown",
   "id": "6aab39d3",
   "metadata": {},
   "source": [
    "### 3. 결론"
   ]
  },
  {
   "cell_type": "markdown",
   "id": "e785836d",
   "metadata": {},
   "source": [
    " + 2017~ 2021 전체기간 회귀식: 게임시장 규모 =0.2826 + 0.478 * 3사 PC게임 매출\n",
    " + 2020 - 2021 코로나기간 회귀식: 게임시장 규모 =0.4739 + 0.629 * 3사 모바일 게임 매출 + 0.73* 코로나확진자 - 0.59 * 마케팅비용\n",
    " \n",
    " ###### 코로나 기간에는 확실히 코로나 라는 변수가 게임시장 규모의 성장에 긍정적 영향을 끼친 것으로 나타남, 또한 pc방 출입이 어려워짐에 따라 모바일의 매출증대로 이어졌음."
   ]
  },
  {
   "cell_type": "code",
   "execution_count": null,
   "id": "c4683ff0",
   "metadata": {},
   "outputs": [],
   "source": []
  }
 ],
 "metadata": {
  "kernelspec": {
   "display_name": "Python 3",
   "language": "python",
   "name": "python3"
  },
  "language_info": {
   "codemirror_mode": {
    "name": "ipython",
    "version": 3
   },
   "file_extension": ".py",
   "mimetype": "text/x-python",
   "name": "python",
   "nbconvert_exporter": "python",
   "pygments_lexer": "ipython3",
   "version": "3.8.8"
  }
 },
 "nbformat": 4,
 "nbformat_minor": 5
}
