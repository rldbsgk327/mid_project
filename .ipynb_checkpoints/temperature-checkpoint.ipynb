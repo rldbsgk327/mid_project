{
 "cells": [
  {
   "cell_type": "code",
   "execution_count": 1,
   "id": "dbb5f9e4",
   "metadata": {},
   "outputs": [],
   "source": [
    "import numpy as np\n",
    "import pandas as pd\n",
    "import matplotlib.pyplot as plt\n",
    "import matplotlib.font_manager as fm\n",
    "font_name = fm.FontProperties(fname=\"C:/Windows/Fonts/malgun.ttf\").get_name()\n",
    "plt.rc(\"font\", family=font_name)"
   ]
  },
  {
   "cell_type": "code",
   "execution_count": 9,
   "id": "180dac8b",
   "metadata": {},
   "outputs": [
    {
     "data": {
      "text/html": [
       "<div>\n",
       "<style scoped>\n",
       "    .dataframe tbody tr th:only-of-type {\n",
       "        vertical-align: middle;\n",
       "    }\n",
       "\n",
       "    .dataframe tbody tr th {\n",
       "        vertical-align: top;\n",
       "    }\n",
       "\n",
       "    .dataframe thead th {\n",
       "        text-align: right;\n",
       "    }\n",
       "</style>\n",
       "<table border=\"1\" class=\"dataframe\">\n",
       "  <thead>\n",
       "    <tr style=\"text-align: right;\">\n",
       "      <th></th>\n",
       "      <th>지점</th>\n",
       "      <th>지점명</th>\n",
       "      <th>일시</th>\n",
       "      <th>평균기온(°C)</th>\n",
       "      <th>평균최고기온(°C)</th>\n",
       "      <th>평균최저기온(°C)</th>\n",
       "      <th>최고기온(°C)</th>\n",
       "      <th>최저기온(°C)</th>\n",
       "      <th>최고기온 나타난날(yyyymmdd)</th>\n",
       "      <th>최저기온 나타난날(yyyymmdd)</th>\n",
       "    </tr>\n",
       "  </thead>\n",
       "  <tbody>\n",
       "    <tr>\n",
       "      <th>0</th>\n",
       "      <td>90</td>\n",
       "      <td>속초</td>\n",
       "      <td>2017-01-01</td>\n",
       "      <td>0.8</td>\n",
       "      <td>5.0</td>\n",
       "      <td>-3.3</td>\n",
       "      <td>11.3</td>\n",
       "      <td>-11.2</td>\n",
       "      <td>20170107</td>\n",
       "      <td>20170123</td>\n",
       "    </tr>\n",
       "    <tr>\n",
       "      <th>1</th>\n",
       "      <td>90</td>\n",
       "      <td>속초</td>\n",
       "      <td>2017-02-01</td>\n",
       "      <td>3.0</td>\n",
       "      <td>7.5</td>\n",
       "      <td>-1.7</td>\n",
       "      <td>14.7</td>\n",
       "      <td>-8.2</td>\n",
       "      <td>20170216</td>\n",
       "      <td>20170210</td>\n",
       "    </tr>\n",
       "    <tr>\n",
       "      <th>2</th>\n",
       "      <td>90</td>\n",
       "      <td>속초</td>\n",
       "      <td>2017-03-01</td>\n",
       "      <td>7.0</td>\n",
       "      <td>11.4</td>\n",
       "      <td>2.6</td>\n",
       "      <td>18.5</td>\n",
       "      <td>-2.8</td>\n",
       "      <td>20170318</td>\n",
       "      <td>20170308</td>\n",
       "    </tr>\n",
       "    <tr>\n",
       "      <th>3</th>\n",
       "      <td>90</td>\n",
       "      <td>속초</td>\n",
       "      <td>2017-04-01</td>\n",
       "      <td>14.8</td>\n",
       "      <td>20.1</td>\n",
       "      <td>9.8</td>\n",
       "      <td>30.8</td>\n",
       "      <td>2.6</td>\n",
       "      <td>20170430</td>\n",
       "      <td>20170402</td>\n",
       "    </tr>\n",
       "    <tr>\n",
       "      <th>4</th>\n",
       "      <td>90</td>\n",
       "      <td>속초</td>\n",
       "      <td>2017-05-01</td>\n",
       "      <td>18.7</td>\n",
       "      <td>23.8</td>\n",
       "      <td>13.8</td>\n",
       "      <td>34.3</td>\n",
       "      <td>9.3</td>\n",
       "      <td>20170519</td>\n",
       "      <td>20170501</td>\n",
       "    </tr>\n",
       "    <tr>\n",
       "      <th>...</th>\n",
       "      <td>...</td>\n",
       "      <td>...</td>\n",
       "      <td>...</td>\n",
       "      <td>...</td>\n",
       "      <td>...</td>\n",
       "      <td>...</td>\n",
       "      <td>...</td>\n",
       "      <td>...</td>\n",
       "      <td>...</td>\n",
       "      <td>...</td>\n",
       "    </tr>\n",
       "    <tr>\n",
       "      <th>5604</th>\n",
       "      <td>295</td>\n",
       "      <td>남해</td>\n",
       "      <td>2021-07-01</td>\n",
       "      <td>26.1</td>\n",
       "      <td>30.3</td>\n",
       "      <td>22.9</td>\n",
       "      <td>33.0</td>\n",
       "      <td>19.3</td>\n",
       "      <td>20210731</td>\n",
       "      <td>20210701</td>\n",
       "    </tr>\n",
       "    <tr>\n",
       "      <th>5605</th>\n",
       "      <td>295</td>\n",
       "      <td>남해</td>\n",
       "      <td>2021-08-01</td>\n",
       "      <td>26.1</td>\n",
       "      <td>30.3</td>\n",
       "      <td>23.0</td>\n",
       "      <td>35.5</td>\n",
       "      <td>20.7</td>\n",
       "      <td>20210806</td>\n",
       "      <td>20210827</td>\n",
       "    </tr>\n",
       "    <tr>\n",
       "      <th>5606</th>\n",
       "      <td>295</td>\n",
       "      <td>남해</td>\n",
       "      <td>2021-09-01</td>\n",
       "      <td>22.2</td>\n",
       "      <td>25.7</td>\n",
       "      <td>19.5</td>\n",
       "      <td>30.1</td>\n",
       "      <td>16.3</td>\n",
       "      <td>20210901</td>\n",
       "      <td>20210923</td>\n",
       "    </tr>\n",
       "    <tr>\n",
       "      <th>5607</th>\n",
       "      <td>295</td>\n",
       "      <td>남해</td>\n",
       "      <td>2021-10-01</td>\n",
       "      <td>17.2</td>\n",
       "      <td>22.3</td>\n",
       "      <td>13.5</td>\n",
       "      <td>28.9</td>\n",
       "      <td>4.7</td>\n",
       "      <td>20211010</td>\n",
       "      <td>20211018</td>\n",
       "    </tr>\n",
       "    <tr>\n",
       "      <th>5608</th>\n",
       "      <td>295</td>\n",
       "      <td>남해</td>\n",
       "      <td>2021-11-01</td>\n",
       "      <td>NaN</td>\n",
       "      <td>NaN</td>\n",
       "      <td>NaN</td>\n",
       "      <td>21.7</td>\n",
       "      <td>5.5</td>\n",
       "      <td>20211101</td>\n",
       "      <td>20211114</td>\n",
       "    </tr>\n",
       "  </tbody>\n",
       "</table>\n",
       "<p>5609 rows × 10 columns</p>\n",
       "</div>"
      ],
      "text/plain": [
       "       지점 지점명          일시  평균기온(°C)  평균최고기온(°C)  평균최저기온(°C)  최고기온(°C)  \\\n",
       "0      90  속초  2017-01-01       0.8         5.0        -3.3      11.3   \n",
       "1      90  속초  2017-02-01       3.0         7.5        -1.7      14.7   \n",
       "2      90  속초  2017-03-01       7.0        11.4         2.6      18.5   \n",
       "3      90  속초  2017-04-01      14.8        20.1         9.8      30.8   \n",
       "4      90  속초  2017-05-01      18.7        23.8        13.8      34.3   \n",
       "...   ...  ..         ...       ...         ...         ...       ...   \n",
       "5604  295  남해  2021-07-01      26.1        30.3        22.9      33.0   \n",
       "5605  295  남해  2021-08-01      26.1        30.3        23.0      35.5   \n",
       "5606  295  남해  2021-09-01      22.2        25.7        19.5      30.1   \n",
       "5607  295  남해  2021-10-01      17.2        22.3        13.5      28.9   \n",
       "5608  295  남해  2021-11-01       NaN         NaN         NaN      21.7   \n",
       "\n",
       "      최저기온(°C)  최고기온 나타난날(yyyymmdd)  최저기온 나타난날(yyyymmdd)  \n",
       "0        -11.2             20170107             20170123  \n",
       "1         -8.2             20170216             20170210  \n",
       "2         -2.8             20170318             20170308  \n",
       "3          2.6             20170430             20170402  \n",
       "4          9.3             20170519             20170501  \n",
       "...        ...                  ...                  ...  \n",
       "5604      19.3             20210731             20210701  \n",
       "5605      20.7             20210806             20210827  \n",
       "5606      16.3             20210901             20210923  \n",
       "5607       4.7             20211010             20211018  \n",
       "5608       5.5             20211101             20211114  \n",
       "\n",
       "[5609 rows x 10 columns]"
      ]
     },
     "execution_count": 9,
     "metadata": {},
     "output_type": "execute_result"
    }
   ],
   "source": [
    "data1 = pd.read_csv(\"data/temperature.csv\", encoding='cp949')\n",
    "del data1[\"최심적설(cm)\"], data1[\"최심신적설(cm)\"], data1[\"3시간신적설합(cm)\"],data1[\"최심적설 나타난날(yyyymmdd)\"],data1[\"최심신적설 나타난날(yyyymmdd)\"]\n",
    "data1"
   ]
  },
  {
   "cell_type": "code",
   "execution_count": 43,
   "id": "a3cb81e9",
   "metadata": {},
   "outputs": [
    {
     "data": {
      "text/plain": [
       "지점                      0\n",
       "지점명                     0\n",
       "일시                      0\n",
       "평균기온(°C)               99\n",
       "평균최고기온(°C)             98\n",
       "평균최저기온(°C)             98\n",
       "최고기온(°C)                0\n",
       "최저기온(°C)                0\n",
       "최고기온 나타난날(yyyymmdd)     0\n",
       "최저기온 나타난날(yyyymmdd)     0\n",
       "dtype: int64"
      ]
     },
     "execution_count": 43,
     "metadata": {},
     "output_type": "execute_result"
    }
   ],
   "source": [
    "data1.isnull().sum() # 결측치 확인"
   ]
  },
  {
   "cell_type": "code",
   "execution_count": 44,
   "id": "03b18803",
   "metadata": {},
   "outputs": [],
   "source": [
    "data1 = data1.dropna() # 결측치 제거"
   ]
  },
  {
   "cell_type": "code",
   "execution_count": 46,
   "id": "4593e607",
   "metadata": {},
   "outputs": [
    {
     "data": {
      "text/plain": [
       "지점                     0\n",
       "지점명                    0\n",
       "일시                     0\n",
       "평균기온(°C)               0\n",
       "평균최고기온(°C)             0\n",
       "평균최저기온(°C)             0\n",
       "최고기온(°C)               0\n",
       "최저기온(°C)               0\n",
       "최고기온 나타난날(yyyymmdd)    0\n",
       "최저기온 나타난날(yyyymmdd)    0\n",
       "dtype: int64"
      ]
     },
     "execution_count": 46,
     "metadata": {},
     "output_type": "execute_result"
    }
   ],
   "source": [
    "data1.isnull().sum() # 결측치 확인"
   ]
  },
  {
   "cell_type": "code",
   "execution_count": 51,
   "id": "eac30afb",
   "metadata": {},
   "outputs": [
    {
     "data": {
      "text/html": [
       "<div>\n",
       "<style scoped>\n",
       "    .dataframe tbody tr th:only-of-type {\n",
       "        vertical-align: middle;\n",
       "    }\n",
       "\n",
       "    .dataframe tbody tr th {\n",
       "        vertical-align: top;\n",
       "    }\n",
       "\n",
       "    .dataframe thead th {\n",
       "        text-align: right;\n",
       "    }\n",
       "</style>\n",
       "<table border=\"1\" class=\"dataframe\">\n",
       "  <thead>\n",
       "    <tr style=\"text-align: right;\">\n",
       "      <th></th>\n",
       "      <th>1Q2017</th>\n",
       "    </tr>\n",
       "  </thead>\n",
       "  <tbody>\n",
       "    <tr>\n",
       "      <th>평균기온(°C)</th>\n",
       "      <td>2.744561</td>\n",
       "    </tr>\n",
       "  </tbody>\n",
       "</table>\n",
       "</div>"
      ],
      "text/plain": [
       "            1Q2017\n",
       "평균기온(°C)  2.744561"
      ]
     },
     "execution_count": 51,
     "metadata": {},
     "output_type": "execute_result"
    }
   ],
   "source": [
    "data1Q17 = data1[(data1['일시']>='2017-01-01') & (data1['일시']<='2017-03-31')] # 17년도 1분기 데이터만 추출\n",
    "data1Q17 = data1Q17.loc[:, [\"평균기온(°C)\"]] # 17년도 1분기 데이터 중 기온만 추출\n",
    "data1Q17.mean() # 전국 17년도 1분기의 평균 기온\n",
    "df1 = pd.DataFrame(data1Q17.mean())\n",
    "df1.columns = [\"1Q2017\"]\n",
    "df1"
   ]
  },
  {
   "cell_type": "code",
   "execution_count": 54,
   "id": "aca811c8",
   "metadata": {},
   "outputs": [
    {
     "data": {
      "text/html": [
       "<div>\n",
       "<style scoped>\n",
       "    .dataframe tbody tr th:only-of-type {\n",
       "        vertical-align: middle;\n",
       "    }\n",
       "\n",
       "    .dataframe tbody tr th {\n",
       "        vertical-align: top;\n",
       "    }\n",
       "\n",
       "    .dataframe thead th {\n",
       "        text-align: right;\n",
       "    }\n",
       "</style>\n",
       "<table border=\"1\" class=\"dataframe\">\n",
       "  <thead>\n",
       "    <tr style=\"text-align: right;\">\n",
       "      <th></th>\n",
       "      <th>2Q2017</th>\n",
       "    </tr>\n",
       "  </thead>\n",
       "  <tbody>\n",
       "    <tr>\n",
       "      <th>평균기온(°C)</th>\n",
       "      <td>17.886667</td>\n",
       "    </tr>\n",
       "  </tbody>\n",
       "</table>\n",
       "</div>"
      ],
      "text/plain": [
       "             2Q2017\n",
       "평균기온(°C)  17.886667"
      ]
     },
     "execution_count": 54,
     "metadata": {},
     "output_type": "execute_result"
    }
   ],
   "source": [
    "data2Q17 = data1[(data1['일시']>='2017-04-01') & (data1['일시']<='2017-06-31')] # 17년도 2분기 데이터만 추출\n",
    "data2Q17 = data2Q17.loc[:, [\"평균기온(°C)\"]] # 17년도 2분기 데이터 중 기온만 추출\n",
    "data2Q17.mean() # 전국 17년도 1분기의 평균 기온\n",
    "df2 = pd.DataFrame(data2Q17.mean())\n",
    "df2.columns = [\"2Q2017\"]\n",
    "df2"
   ]
  },
  {
   "cell_type": "code",
   "execution_count": 55,
   "id": "a7ac0f28",
   "metadata": {},
   "outputs": [
    {
     "data": {
      "text/html": [
       "<div>\n",
       "<style scoped>\n",
       "    .dataframe tbody tr th:only-of-type {\n",
       "        vertical-align: middle;\n",
       "    }\n",
       "\n",
       "    .dataframe tbody tr th {\n",
       "        vertical-align: top;\n",
       "    }\n",
       "\n",
       "    .dataframe thead th {\n",
       "        text-align: right;\n",
       "    }\n",
       "</style>\n",
       "<table border=\"1\" class=\"dataframe\">\n",
       "  <thead>\n",
       "    <tr style=\"text-align: right;\">\n",
       "      <th></th>\n",
       "      <th>3Q2017</th>\n",
       "    </tr>\n",
       "  </thead>\n",
       "  <tbody>\n",
       "    <tr>\n",
       "      <th>평균기온(°C)</th>\n",
       "      <td>24.0</td>\n",
       "    </tr>\n",
       "  </tbody>\n",
       "</table>\n",
       "</div>"
      ],
      "text/plain": [
       "          3Q2017\n",
       "평균기온(°C)    24.0"
      ]
     },
     "execution_count": 55,
     "metadata": {},
     "output_type": "execute_result"
    }
   ],
   "source": [
    "data3Q17 = data1[(data1['일시']>='2017-07-01') & (data1['일시']<='2017-09-31')] # 17년도 3분기 데이터만 추출\n",
    "data3Q17 = data3Q17.loc[:, [\"평균기온(°C)\"]] # 17년도 3분기 데이터 중 기온만 추출\n",
    "data3Q17.mean() # 전국 17년도 3분기의 평균 기온\n",
    "df3 = pd.DataFrame(data3Q17.mean())\n",
    "df3.columns = [\"3Q2017\"]\n",
    "df3"
   ]
  },
  {
   "cell_type": "code",
   "execution_count": 56,
   "id": "6a24c741",
   "metadata": {},
   "outputs": [
    {
     "data": {
      "text/html": [
       "<div>\n",
       "<style scoped>\n",
       "    .dataframe tbody tr th:only-of-type {\n",
       "        vertical-align: middle;\n",
       "    }\n",
       "\n",
       "    .dataframe tbody tr th {\n",
       "        vertical-align: top;\n",
       "    }\n",
       "\n",
       "    .dataframe thead th {\n",
       "        text-align: right;\n",
       "    }\n",
       "</style>\n",
       "<table border=\"1\" class=\"dataframe\">\n",
       "  <thead>\n",
       "    <tr style=\"text-align: right;\">\n",
       "      <th></th>\n",
       "      <th>4Q2017</th>\n",
       "    </tr>\n",
       "  </thead>\n",
       "  <tbody>\n",
       "    <tr>\n",
       "      <th>평균기온(°C)</th>\n",
       "      <td>7.394386</td>\n",
       "    </tr>\n",
       "  </tbody>\n",
       "</table>\n",
       "</div>"
      ],
      "text/plain": [
       "            4Q2017\n",
       "평균기온(°C)  7.394386"
      ]
     },
     "execution_count": 56,
     "metadata": {},
     "output_type": "execute_result"
    }
   ],
   "source": [
    "data4Q17 = data1[(data1['일시']>='2017-10-01') & (data1['일시']<='2017-12-31')] # 17년도 4분기 데이터만 추출\n",
    "data4Q17 = data4Q17.loc[:, [\"평균기온(°C)\"]] # 17년도 4분기 데이터 중 기온만 추출\n",
    "data4Q17.mean() # 전국 17년도 4분기의 평균 기온\n",
    "df4 = pd.DataFrame(data4Q17.mean())\n",
    "df4.columns = [\"4Q2017\"]\n",
    "df4"
   ]
  },
  {
   "cell_type": "code",
   "execution_count": 86,
   "id": "63ca9908",
   "metadata": {},
   "outputs": [
    {
     "data": {
      "text/html": [
       "<div>\n",
       "<style scoped>\n",
       "    .dataframe tbody tr th:only-of-type {\n",
       "        vertical-align: middle;\n",
       "    }\n",
       "\n",
       "    .dataframe tbody tr th {\n",
       "        vertical-align: top;\n",
       "    }\n",
       "\n",
       "    .dataframe thead th {\n",
       "        text-align: right;\n",
       "    }\n",
       "</style>\n",
       "<table border=\"1\" class=\"dataframe\">\n",
       "  <thead>\n",
       "    <tr style=\"text-align: right;\">\n",
       "      <th></th>\n",
       "      <th>1Q2018</th>\n",
       "    </tr>\n",
       "  </thead>\n",
       "  <tbody>\n",
       "    <tr>\n",
       "      <th>평균기온(°C)</th>\n",
       "      <td>2.030175</td>\n",
       "    </tr>\n",
       "  </tbody>\n",
       "</table>\n",
       "</div>"
      ],
      "text/plain": [
       "            1Q2018\n",
       "평균기온(°C)  2.030175"
      ]
     },
     "execution_count": 86,
     "metadata": {},
     "output_type": "execute_result"
    }
   ],
   "source": [
    "data1Q18 = data1[(data1['일시']>='2018-01-01') & (data1['일시']<='2018-03-31')] # 18년도 1분기 데이터만 추출\n",
    "data1Q18 = data1Q18.loc[:, [\"평균기온(°C)\"]] # 18년도 1분기 데이터 중 기온만 추출\n",
    "data1Q18.mean() # 전국 18년도 1분기의 평균 기온\n",
    "df5 = pd.DataFrame(data1Q18.mean())\n",
    "df5.columns = [\"1Q2018\"]\n",
    "df5"
   ]
  },
  {
   "cell_type": "code",
   "execution_count": 87,
   "id": "31aa0678",
   "metadata": {},
   "outputs": [
    {
     "data": {
      "text/html": [
       "<div>\n",
       "<style scoped>\n",
       "    .dataframe tbody tr th:only-of-type {\n",
       "        vertical-align: middle;\n",
       "    }\n",
       "\n",
       "    .dataframe tbody tr th {\n",
       "        vertical-align: top;\n",
       "    }\n",
       "\n",
       "    .dataframe thead th {\n",
       "        text-align: right;\n",
       "    }\n",
       "</style>\n",
       "<table border=\"1\" class=\"dataframe\">\n",
       "  <thead>\n",
       "    <tr style=\"text-align: right;\">\n",
       "      <th></th>\n",
       "      <th>2Q2018</th>\n",
       "    </tr>\n",
       "  </thead>\n",
       "  <tbody>\n",
       "    <tr>\n",
       "      <th>평균기온(°C)</th>\n",
       "      <td>17.555088</td>\n",
       "    </tr>\n",
       "  </tbody>\n",
       "</table>\n",
       "</div>"
      ],
      "text/plain": [
       "             2Q2018\n",
       "평균기온(°C)  17.555088"
      ]
     },
     "execution_count": 87,
     "metadata": {},
     "output_type": "execute_result"
    }
   ],
   "source": [
    "data2Q18 = data1[(data1['일시']>='2018-04-01') & (data1['일시']<='2018-06-31')] # 18년도 2분기 데이터만 추출\n",
    "data2Q18 = data2Q18.loc[:, [\"평균기온(°C)\"]] # 18년도 2분기 데이터 중 기온만 추출\n",
    "data2Q18.mean() # 전국 18년도 2분기의 평균 기온\n",
    "df6 = pd.DataFrame(data2Q18.mean())\n",
    "df6.columns = [\"2Q2018\"]\n",
    "df6"
   ]
  },
  {
   "cell_type": "code",
   "execution_count": 88,
   "id": "74b19948",
   "metadata": {},
   "outputs": [
    {
     "data": {
      "text/html": [
       "<div>\n",
       "<style scoped>\n",
       "    .dataframe tbody tr th:only-of-type {\n",
       "        vertical-align: middle;\n",
       "    }\n",
       "\n",
       "    .dataframe tbody tr th {\n",
       "        vertical-align: top;\n",
       "    }\n",
       "\n",
       "    .dataframe thead th {\n",
       "        text-align: right;\n",
       "    }\n",
       "</style>\n",
       "<table border=\"1\" class=\"dataframe\">\n",
       "  <thead>\n",
       "    <tr style=\"text-align: right;\">\n",
       "      <th></th>\n",
       "      <th>3Q2018</th>\n",
       "    </tr>\n",
       "  </thead>\n",
       "  <tbody>\n",
       "    <tr>\n",
       "      <th>평균기온(°C)</th>\n",
       "      <td>24.640351</td>\n",
       "    </tr>\n",
       "  </tbody>\n",
       "</table>\n",
       "</div>"
      ],
      "text/plain": [
       "             3Q2018\n",
       "평균기온(°C)  24.640351"
      ]
     },
     "execution_count": 88,
     "metadata": {},
     "output_type": "execute_result"
    }
   ],
   "source": [
    "data3Q18 = data1[(data1['일시']>='2018-07-01') & (data1['일시']<='2018-09-31')] # 18년도 3분기 데이터만 추출\n",
    "data3Q18 = data3Q18.loc[:, [\"평균기온(°C)\"]] # 18년도 3분기 데이터 중 기온만 추출\n",
    "data3Q18.mean() # 전국 18년도 3분기의 평균 기온\n",
    "df7 = pd.DataFrame(data3Q18.mean())\n",
    "df7.columns = [\"3Q2018\"]\n",
    "df7"
   ]
  },
  {
   "cell_type": "code",
   "execution_count": 89,
   "id": "9df27e03",
   "metadata": {},
   "outputs": [
    {
     "data": {
      "text/html": [
       "<div>\n",
       "<style scoped>\n",
       "    .dataframe tbody tr th:only-of-type {\n",
       "        vertical-align: middle;\n",
       "    }\n",
       "\n",
       "    .dataframe tbody tr th {\n",
       "        vertical-align: top;\n",
       "    }\n",
       "\n",
       "    .dataframe thead th {\n",
       "        text-align: right;\n",
       "    }\n",
       "</style>\n",
       "<table border=\"1\" class=\"dataframe\">\n",
       "  <thead>\n",
       "    <tr style=\"text-align: right;\">\n",
       "      <th></th>\n",
       "      <th>4Q2018</th>\n",
       "    </tr>\n",
       "  </thead>\n",
       "  <tbody>\n",
       "    <tr>\n",
       "      <th>평균기온(°C)</th>\n",
       "      <td>7.538947</td>\n",
       "    </tr>\n",
       "  </tbody>\n",
       "</table>\n",
       "</div>"
      ],
      "text/plain": [
       "            4Q2018\n",
       "평균기온(°C)  7.538947"
      ]
     },
     "execution_count": 89,
     "metadata": {},
     "output_type": "execute_result"
    }
   ],
   "source": [
    "data4Q18 = data1[(data1['일시']>='2018-10-01') & (data1['일시']<='2018-12-31')] # 18년도 4분기 데이터만 추출\n",
    "data4Q18 = data4Q18.loc[:, [\"평균기온(°C)\"]] # 18년도 4분기 데이터 중 기온만 추출\n",
    "data4Q18.mean() # 전국 18년도 4분기의 평균 기온\n",
    "df8 = pd.DataFrame(data4Q18.mean())\n",
    "df8.columns = [\"4Q2018\"]\n",
    "df8"
   ]
  },
  {
   "cell_type": "code",
   "execution_count": 90,
   "id": "f295a6df",
   "metadata": {},
   "outputs": [
    {
     "data": {
      "text/html": [
       "<div>\n",
       "<style scoped>\n",
       "    .dataframe tbody tr th:only-of-type {\n",
       "        vertical-align: middle;\n",
       "    }\n",
       "\n",
       "    .dataframe tbody tr th {\n",
       "        vertical-align: top;\n",
       "    }\n",
       "\n",
       "    .dataframe thead th {\n",
       "        text-align: right;\n",
       "    }\n",
       "</style>\n",
       "<table border=\"1\" class=\"dataframe\">\n",
       "  <thead>\n",
       "    <tr style=\"text-align: right;\">\n",
       "      <th></th>\n",
       "      <th>1Q2019</th>\n",
       "    </tr>\n",
       "  </thead>\n",
       "  <tbody>\n",
       "    <tr>\n",
       "      <th>평균기온(°C)</th>\n",
       "      <td>3.451228</td>\n",
       "    </tr>\n",
       "  </tbody>\n",
       "</table>\n",
       "</div>"
      ],
      "text/plain": [
       "            1Q2019\n",
       "평균기온(°C)  3.451228"
      ]
     },
     "execution_count": 90,
     "metadata": {},
     "output_type": "execute_result"
    }
   ],
   "source": [
    "data1Q19 = data1[(data1['일시']>='2019-01-01') & (data1['일시']<='2019-03-31')] # 19년도 1분기 데이터만 추출\n",
    "data1Q19 = data1Q19.loc[:, [\"평균기온(°C)\"]] # 19년도 1분기 데이터 중 기온만 추출\n",
    "data1Q19.mean() # 전국 19년도 1분기의 평균 기온\n",
    "df9 = pd.DataFrame(data1Q19.mean())\n",
    "df9.columns = [\"1Q2019\"]\n",
    "df9"
   ]
  },
  {
   "cell_type": "code",
   "execution_count": 91,
   "id": "a246ed27",
   "metadata": {},
   "outputs": [
    {
     "data": {
      "text/html": [
       "<div>\n",
       "<style scoped>\n",
       "    .dataframe tbody tr th:only-of-type {\n",
       "        vertical-align: middle;\n",
       "    }\n",
       "\n",
       "    .dataframe tbody tr th {\n",
       "        vertical-align: top;\n",
       "    }\n",
       "\n",
       "    .dataframe thead th {\n",
       "        text-align: right;\n",
       "    }\n",
       "</style>\n",
       "<table border=\"1\" class=\"dataframe\">\n",
       "  <thead>\n",
       "    <tr style=\"text-align: right;\">\n",
       "      <th></th>\n",
       "      <th>2Q2019</th>\n",
       "    </tr>\n",
       "  </thead>\n",
       "  <tbody>\n",
       "    <tr>\n",
       "      <th>평균기온(°C)</th>\n",
       "      <td>17.073776</td>\n",
       "    </tr>\n",
       "  </tbody>\n",
       "</table>\n",
       "</div>"
      ],
      "text/plain": [
       "             2Q2019\n",
       "평균기온(°C)  17.073776"
      ]
     },
     "execution_count": 91,
     "metadata": {},
     "output_type": "execute_result"
    }
   ],
   "source": [
    "data2Q19 = data1[(data1['일시']>='2019-04-01') & (data1['일시']<='2019-06-31')] # 19년도 2분기 데이터만 추출\n",
    "data2Q19 = data2Q19.loc[:, [\"평균기온(°C)\"]] # 19년도 2분기 데이터 중 기온만 추출\n",
    "data2Q19.mean() # 전국 19년도 2분기의 평균 기온\n",
    "df10 = pd.DataFrame(data2Q19.mean())\n",
    "df10.columns = [\"2Q2019\"]\n",
    "df10"
   ]
  },
  {
   "cell_type": "code",
   "execution_count": 92,
   "id": "1d361b34",
   "metadata": {},
   "outputs": [
    {
     "data": {
      "text/html": [
       "<div>\n",
       "<style scoped>\n",
       "    .dataframe tbody tr th:only-of-type {\n",
       "        vertical-align: middle;\n",
       "    }\n",
       "\n",
       "    .dataframe tbody tr th {\n",
       "        vertical-align: top;\n",
       "    }\n",
       "\n",
       "    .dataframe thead th {\n",
       "        text-align: right;\n",
       "    }\n",
       "</style>\n",
       "<table border=\"1\" class=\"dataframe\">\n",
       "  <thead>\n",
       "    <tr style=\"text-align: right;\">\n",
       "      <th></th>\n",
       "      <th>3Q2019</th>\n",
       "    </tr>\n",
       "  </thead>\n",
       "  <tbody>\n",
       "    <tr>\n",
       "      <th>평균기온(°C)</th>\n",
       "      <td>24.01014</td>\n",
       "    </tr>\n",
       "  </tbody>\n",
       "</table>\n",
       "</div>"
      ],
      "text/plain": [
       "            3Q2019\n",
       "평균기온(°C)  24.01014"
      ]
     },
     "execution_count": 92,
     "metadata": {},
     "output_type": "execute_result"
    }
   ],
   "source": [
    "data3Q19 = data1[(data1['일시']>='2019-07-01') & (data1['일시']<='2019-09-31')] # 19년도 3분기 데이터만 추출\n",
    "data3Q19 = data3Q19.loc[:, [\"평균기온(°C)\"]] # 19년도 3분기 데이터 중 기온만 추출\n",
    "data3Q19.mean() # 전국 19년도 3분기의 평균 기온\n",
    "df11 = pd.DataFrame(data3Q19.mean())\n",
    "df11.columns = [\"3Q2019\"]\n",
    "df11"
   ]
  },
  {
   "cell_type": "code",
   "execution_count": 93,
   "id": "9b3a7352",
   "metadata": {},
   "outputs": [
    {
     "data": {
      "text/html": [
       "<div>\n",
       "<style scoped>\n",
       "    .dataframe tbody tr th:only-of-type {\n",
       "        vertical-align: middle;\n",
       "    }\n",
       "\n",
       "    .dataframe tbody tr th {\n",
       "        vertical-align: top;\n",
       "    }\n",
       "\n",
       "    .dataframe thead th {\n",
       "        text-align: right;\n",
       "    }\n",
       "</style>\n",
       "<table border=\"1\" class=\"dataframe\">\n",
       "  <thead>\n",
       "    <tr style=\"text-align: right;\">\n",
       "      <th></th>\n",
       "      <th>4Q2019</th>\n",
       "    </tr>\n",
       "  </thead>\n",
       "  <tbody>\n",
       "    <tr>\n",
       "      <th>평균기온(°C)</th>\n",
       "      <td>9.167368</td>\n",
       "    </tr>\n",
       "  </tbody>\n",
       "</table>\n",
       "</div>"
      ],
      "text/plain": [
       "            4Q2019\n",
       "평균기온(°C)  9.167368"
      ]
     },
     "execution_count": 93,
     "metadata": {},
     "output_type": "execute_result"
    }
   ],
   "source": [
    "data4Q19 = data1[(data1['일시']>='2019-10-01') & (data1['일시']<='2019-12-31')] # 19년도 4분기 데이터만 추출\n",
    "data4Q19 = data4Q19.loc[:, [\"평균기온(°C)\"]] # 19년도 4분기 데이터 중 기온만 추출\n",
    "data4Q19.mean() # 전국 19년도 4분기의 평균 기온\n",
    "df12 = pd.DataFrame(data4Q19.mean())\n",
    "df12.columns = [\"4Q2019\"]\n",
    "df12"
   ]
  },
  {
   "cell_type": "code",
   "execution_count": 94,
   "id": "ec95c9d3",
   "metadata": {},
   "outputs": [
    {
     "data": {
      "text/html": [
       "<div>\n",
       "<style scoped>\n",
       "    .dataframe tbody tr th:only-of-type {\n",
       "        vertical-align: middle;\n",
       "    }\n",
       "\n",
       "    .dataframe tbody tr th {\n",
       "        vertical-align: top;\n",
       "    }\n",
       "\n",
       "    .dataframe thead th {\n",
       "        text-align: right;\n",
       "    }\n",
       "</style>\n",
       "<table border=\"1\" class=\"dataframe\">\n",
       "  <thead>\n",
       "    <tr style=\"text-align: right;\">\n",
       "      <th></th>\n",
       "      <th>1Q2020</th>\n",
       "    </tr>\n",
       "  </thead>\n",
       "  <tbody>\n",
       "    <tr>\n",
       "      <th>평균기온(°C)</th>\n",
       "      <td>4.849123</td>\n",
       "    </tr>\n",
       "  </tbody>\n",
       "</table>\n",
       "</div>"
      ],
      "text/plain": [
       "            1Q2020\n",
       "평균기온(°C)  4.849123"
      ]
     },
     "execution_count": 94,
     "metadata": {},
     "output_type": "execute_result"
    }
   ],
   "source": [
    "data1Q20 = data1[(data1['일시']>='2020-01-01') & (data1['일시']<='2020-03-31')] # 20년도 1분기 데이터만 추출\n",
    "data1Q20 = data1Q20.loc[:, [\"평균기온(°C)\"]] # 20년도 1분기 데이터 중 기온만 추출\n",
    "data1Q20.mean() # 전국 20년도 1분기의 평균 기온\n",
    "df13 = pd.DataFrame(data1Q20.mean())\n",
    "df13.columns = [\"1Q2020\"]\n",
    "df13"
   ]
  },
  {
   "cell_type": "code",
   "execution_count": 95,
   "id": "70daf4f3",
   "metadata": {},
   "outputs": [
    {
     "data": {
      "text/html": [
       "<div>\n",
       "<style scoped>\n",
       "    .dataframe tbody tr th:only-of-type {\n",
       "        vertical-align: middle;\n",
       "    }\n",
       "\n",
       "    .dataframe tbody tr th {\n",
       "        vertical-align: top;\n",
       "    }\n",
       "\n",
       "    .dataframe thead th {\n",
       "        text-align: right;\n",
       "    }\n",
       "</style>\n",
       "<table border=\"1\" class=\"dataframe\">\n",
       "  <thead>\n",
       "    <tr style=\"text-align: right;\">\n",
       "      <th></th>\n",
       "      <th>2Q2020</th>\n",
       "    </tr>\n",
       "  </thead>\n",
       "  <tbody>\n",
       "    <tr>\n",
       "      <th>평균기온(°C)</th>\n",
       "      <td>16.954737</td>\n",
       "    </tr>\n",
       "  </tbody>\n",
       "</table>\n",
       "</div>"
      ],
      "text/plain": [
       "             2Q2020\n",
       "평균기온(°C)  16.954737"
      ]
     },
     "execution_count": 95,
     "metadata": {},
     "output_type": "execute_result"
    }
   ],
   "source": [
    "data2Q20 = data1[(data1['일시']>='2020-04-01') & (data1['일시']<='2020-06-31')] # 20년도 2분기 데이터만 추출\n",
    "data2Q20 = data2Q20.loc[:, [\"평균기온(°C)\"]] # 20년도 2분기 데이터 중 기온만 추출\n",
    "data2Q20.mean() # 전국 20년도 2분기의 평균 기온\n",
    "df14 = pd.DataFrame(data2Q20.mean())\n",
    "df14.columns = [\"2Q2020\"]\n",
    "df14"
   ]
  },
  {
   "cell_type": "code",
   "execution_count": 96,
   "id": "40b27d53",
   "metadata": {},
   "outputs": [
    {
     "data": {
      "text/html": [
       "<div>\n",
       "<style scoped>\n",
       "    .dataframe tbody tr th:only-of-type {\n",
       "        vertical-align: middle;\n",
       "    }\n",
       "\n",
       "    .dataframe tbody tr th {\n",
       "        vertical-align: top;\n",
       "    }\n",
       "\n",
       "    .dataframe thead th {\n",
       "        text-align: right;\n",
       "    }\n",
       "</style>\n",
       "<table border=\"1\" class=\"dataframe\">\n",
       "  <thead>\n",
       "    <tr style=\"text-align: right;\">\n",
       "      <th></th>\n",
       "      <th>3Q2020</th>\n",
       "    </tr>\n",
       "  </thead>\n",
       "  <tbody>\n",
       "    <tr>\n",
       "      <th>평균기온(°C)</th>\n",
       "      <td>23.112281</td>\n",
       "    </tr>\n",
       "  </tbody>\n",
       "</table>\n",
       "</div>"
      ],
      "text/plain": [
       "             3Q2020\n",
       "평균기온(°C)  23.112281"
      ]
     },
     "execution_count": 96,
     "metadata": {},
     "output_type": "execute_result"
    }
   ],
   "source": [
    "data3Q20 = data1[(data1['일시']>='2020-07-01') & (data1['일시']<='2020-09-31')] # 20년도 3분기 데이터만 추출\n",
    "data3Q20 = data3Q20.loc[:, [\"평균기온(°C)\"]] # 20년도 3분기 데이터 중 기온만 추출\n",
    "data3Q20.mean() # 전국 20년도 3분기의 평균 기온\n",
    "df15 = pd.DataFrame(data3Q20.mean())\n",
    "df15.columns = [\"3Q2020\"]\n",
    "df15"
   ]
  },
  {
   "cell_type": "code",
   "execution_count": 97,
   "id": "d6c200a9",
   "metadata": {},
   "outputs": [
    {
     "data": {
      "text/html": [
       "<div>\n",
       "<style scoped>\n",
       "    .dataframe tbody tr th:only-of-type {\n",
       "        vertical-align: middle;\n",
       "    }\n",
       "\n",
       "    .dataframe tbody tr th {\n",
       "        vertical-align: top;\n",
       "    }\n",
       "\n",
       "    .dataframe thead th {\n",
       "        text-align: right;\n",
       "    }\n",
       "</style>\n",
       "<table border=\"1\" class=\"dataframe\">\n",
       "  <thead>\n",
       "    <tr style=\"text-align: right;\">\n",
       "      <th></th>\n",
       "      <th>4Q2020</th>\n",
       "    </tr>\n",
       "  </thead>\n",
       "  <tbody>\n",
       "    <tr>\n",
       "      <th>평균기온(°C)</th>\n",
       "      <td>7.912281</td>\n",
       "    </tr>\n",
       "  </tbody>\n",
       "</table>\n",
       "</div>"
      ],
      "text/plain": [
       "            4Q2020\n",
       "평균기온(°C)  7.912281"
      ]
     },
     "execution_count": 97,
     "metadata": {},
     "output_type": "execute_result"
    }
   ],
   "source": [
    "data4Q20 = data1[(data1['일시']>='2020-10-01') & (data1['일시']<='2020-12-31')] # 20년도 4분기 데이터만 추출\n",
    "data4Q20 = data4Q20.loc[:, [\"평균기온(°C)\"]] # 20년도 4분기 데이터 중 기온만 추출\n",
    "data4Q20.mean() # 전국 20년도 4분기의 평균 기온\n",
    "df16 = pd.DataFrame(data4Q20.mean())\n",
    "df16.columns = [\"4Q2020\"]\n",
    "df16"
   ]
  },
  {
   "cell_type": "code",
   "execution_count": 98,
   "id": "d19aa02f",
   "metadata": {},
   "outputs": [
    {
     "data": {
      "text/html": [
       "<div>\n",
       "<style scoped>\n",
       "    .dataframe tbody tr th:only-of-type {\n",
       "        vertical-align: middle;\n",
       "    }\n",
       "\n",
       "    .dataframe tbody tr th {\n",
       "        vertical-align: top;\n",
       "    }\n",
       "\n",
       "    .dataframe thead th {\n",
       "        text-align: right;\n",
       "    }\n",
       "</style>\n",
       "<table border=\"1\" class=\"dataframe\">\n",
       "  <thead>\n",
       "    <tr style=\"text-align: right;\">\n",
       "      <th></th>\n",
       "      <th>1Q2021</th>\n",
       "    </tr>\n",
       "  </thead>\n",
       "  <tbody>\n",
       "    <tr>\n",
       "      <th>평균기온(°C)</th>\n",
       "      <td>4.052632</td>\n",
       "    </tr>\n",
       "  </tbody>\n",
       "</table>\n",
       "</div>"
      ],
      "text/plain": [
       "            1Q2021\n",
       "평균기온(°C)  4.052632"
      ]
     },
     "execution_count": 98,
     "metadata": {},
     "output_type": "execute_result"
    }
   ],
   "source": [
    "data1Q21 = data1[(data1['일시']>='2021-01-01') & (data1['일시']<='2021-03-31')] # 21년도 1분기 데이터만 추출\n",
    "data1Q21 = data1Q21.loc[:, [\"평균기온(°C)\"]] # 21년도 1분기 데이터 중 기온만 추출\n",
    "data1Q21.mean() # 전국 21년도 1분기의 평균 기온\n",
    "df17 = pd.DataFrame(data1Q21.mean())\n",
    "df17.columns = [\"1Q2021\"]\n",
    "df17"
   ]
  },
  {
   "cell_type": "code",
   "execution_count": 99,
   "id": "0158903f",
   "metadata": {},
   "outputs": [
    {
     "data": {
      "text/html": [
       "<div>\n",
       "<style scoped>\n",
       "    .dataframe tbody tr th:only-of-type {\n",
       "        vertical-align: middle;\n",
       "    }\n",
       "\n",
       "    .dataframe tbody tr th {\n",
       "        vertical-align: top;\n",
       "    }\n",
       "\n",
       "    .dataframe thead th {\n",
       "        text-align: right;\n",
       "    }\n",
       "</style>\n",
       "<table border=\"1\" class=\"dataframe\">\n",
       "  <thead>\n",
       "    <tr style=\"text-align: right;\">\n",
       "      <th></th>\n",
       "      <th>2Q2021</th>\n",
       "    </tr>\n",
       "  </thead>\n",
       "  <tbody>\n",
       "    <tr>\n",
       "      <th>평균기온(°C)</th>\n",
       "      <td>17.236268</td>\n",
       "    </tr>\n",
       "  </tbody>\n",
       "</table>\n",
       "</div>"
      ],
      "text/plain": [
       "             2Q2021\n",
       "평균기온(°C)  17.236268"
      ]
     },
     "execution_count": 99,
     "metadata": {},
     "output_type": "execute_result"
    }
   ],
   "source": [
    "data2Q21 = data1[(data1['일시']>='2021-04-01') & (data1['일시']<='2021-06-31')] # 21년도 2분기 데이터만 추출\n",
    "data2Q21 = data2Q21.loc[:, [\"평균기온(°C)\"]] # 21년도 2분기 데이터 중 기온만 추출\n",
    "data2Q21.mean() # 전국 21년도 2분기의 평균 기온\n",
    "df18 = pd.DataFrame(data2Q21.mean())\n",
    "df18.columns = [\"2Q2021\"]\n",
    "df18"
   ]
  },
  {
   "cell_type": "code",
   "execution_count": 100,
   "id": "d0c5552e",
   "metadata": {},
   "outputs": [
    {
     "data": {
      "text/html": [
       "<div>\n",
       "<style scoped>\n",
       "    .dataframe tbody tr th:only-of-type {\n",
       "        vertical-align: middle;\n",
       "    }\n",
       "\n",
       "    .dataframe tbody tr th {\n",
       "        vertical-align: top;\n",
       "    }\n",
       "\n",
       "    .dataframe thead th {\n",
       "        text-align: right;\n",
       "    }\n",
       "</style>\n",
       "<table border=\"1\" class=\"dataframe\">\n",
       "  <thead>\n",
       "    <tr style=\"text-align: right;\">\n",
       "      <th></th>\n",
       "      <th>3Q2021</th>\n",
       "    </tr>\n",
       "  </thead>\n",
       "  <tbody>\n",
       "    <tr>\n",
       "      <th>평균기온(°C)</th>\n",
       "      <td>24.183158</td>\n",
       "    </tr>\n",
       "  </tbody>\n",
       "</table>\n",
       "</div>"
      ],
      "text/plain": [
       "             3Q2021\n",
       "평균기온(°C)  24.183158"
      ]
     },
     "execution_count": 100,
     "metadata": {},
     "output_type": "execute_result"
    }
   ],
   "source": [
    "data3Q21 = data1[(data1['일시']>='2021-07-01') & (data1['일시']<='2021-09-31')] # 21년도 3분기 데이터만 추출\n",
    "data3Q21 = data3Q21.loc[:, [\"평균기온(°C)\"]] # 21년도 3분기 데이터 중 기온만 추출\n",
    "data3Q21.mean() # 전국 21년도 3분기의 평균 기온\n",
    "df19 = pd.DataFrame(data3Q21.mean())\n",
    "df19.columns = [\"3Q2021\"]\n",
    "df19"
   ]
  },
  {
   "cell_type": "code",
   "execution_count": 101,
   "id": "1ea4c98e",
   "metadata": {},
   "outputs": [
    {
     "data": {
      "text/html": [
       "<div>\n",
       "<style scoped>\n",
       "    .dataframe tbody tr th:only-of-type {\n",
       "        vertical-align: middle;\n",
       "    }\n",
       "\n",
       "    .dataframe tbody tr th {\n",
       "        vertical-align: top;\n",
       "    }\n",
       "\n",
       "    .dataframe thead th {\n",
       "        text-align: right;\n",
       "    }\n",
       "</style>\n",
       "<table border=\"1\" class=\"dataframe\">\n",
       "  <thead>\n",
       "    <tr style=\"text-align: right;\">\n",
       "      <th></th>\n",
       "      <th>평균기온(°C)</th>\n",
       "    </tr>\n",
       "  </thead>\n",
       "  <tbody>\n",
       "    <tr>\n",
       "      <th>1Q2017</th>\n",
       "      <td>2.744561</td>\n",
       "    </tr>\n",
       "    <tr>\n",
       "      <th>2Q2017</th>\n",
       "      <td>17.886667</td>\n",
       "    </tr>\n",
       "    <tr>\n",
       "      <th>3Q2017</th>\n",
       "      <td>24.000000</td>\n",
       "    </tr>\n",
       "    <tr>\n",
       "      <th>4Q2017</th>\n",
       "      <td>7.394386</td>\n",
       "    </tr>\n",
       "    <tr>\n",
       "      <th>1Q2018</th>\n",
       "      <td>2.030175</td>\n",
       "    </tr>\n",
       "    <tr>\n",
       "      <th>2Q2018</th>\n",
       "      <td>17.555088</td>\n",
       "    </tr>\n",
       "    <tr>\n",
       "      <th>3Q2018</th>\n",
       "      <td>24.640351</td>\n",
       "    </tr>\n",
       "    <tr>\n",
       "      <th>4Q2018</th>\n",
       "      <td>7.538947</td>\n",
       "    </tr>\n",
       "    <tr>\n",
       "      <th>1Q2019</th>\n",
       "      <td>3.451228</td>\n",
       "    </tr>\n",
       "    <tr>\n",
       "      <th>2Q2019</th>\n",
       "      <td>17.073776</td>\n",
       "    </tr>\n",
       "    <tr>\n",
       "      <th>3Q2019</th>\n",
       "      <td>24.010140</td>\n",
       "    </tr>\n",
       "    <tr>\n",
       "      <th>4Q2019</th>\n",
       "      <td>9.167368</td>\n",
       "    </tr>\n",
       "    <tr>\n",
       "      <th>1Q2020</th>\n",
       "      <td>4.849123</td>\n",
       "    </tr>\n",
       "    <tr>\n",
       "      <th>2Q2020</th>\n",
       "      <td>16.954737</td>\n",
       "    </tr>\n",
       "    <tr>\n",
       "      <th>3Q2020</th>\n",
       "      <td>23.112281</td>\n",
       "    </tr>\n",
       "    <tr>\n",
       "      <th>4Q2020</th>\n",
       "      <td>7.912281</td>\n",
       "    </tr>\n",
       "    <tr>\n",
       "      <th>1Q2021</th>\n",
       "      <td>4.052632</td>\n",
       "    </tr>\n",
       "    <tr>\n",
       "      <th>2Q2021</th>\n",
       "      <td>17.236268</td>\n",
       "    </tr>\n",
       "    <tr>\n",
       "      <th>3Q2021</th>\n",
       "      <td>24.183158</td>\n",
       "    </tr>\n",
       "  </tbody>\n",
       "</table>\n",
       "</div>"
      ],
      "text/plain": [
       "         평균기온(°C)\n",
       "1Q2017   2.744561\n",
       "2Q2017  17.886667\n",
       "3Q2017  24.000000\n",
       "4Q2017   7.394386\n",
       "1Q2018   2.030175\n",
       "2Q2018  17.555088\n",
       "3Q2018  24.640351\n",
       "4Q2018   7.538947\n",
       "1Q2019   3.451228\n",
       "2Q2019  17.073776\n",
       "3Q2019  24.010140\n",
       "4Q2019   9.167368\n",
       "1Q2020   4.849123\n",
       "2Q2020  16.954737\n",
       "3Q2020  23.112281\n",
       "4Q2020   7.912281\n",
       "1Q2021   4.052632\n",
       "2Q2021  17.236268\n",
       "3Q2021  24.183158"
      ]
     },
     "execution_count": 101,
     "metadata": {},
     "output_type": "execute_result"
    }
   ],
   "source": [
    "df_list = [df1.T, df2.T, df3.T,df4.T, df5.T, df6.T,df7.T, df8.T, df9.T,df10.T, df11.T, df12.T, df13.T, df14.T, df15.T, df16.T, df17.T, df18.T, df19.T]\n",
    "pd.concat(df_list)"
   ]
  },
  {
   "cell_type": "code",
   "execution_count": null,
   "id": "0d41afc5",
   "metadata": {},
   "outputs": [],
   "source": []
  }
 ],
 "metadata": {
  "kernelspec": {
   "display_name": "Python 3",
   "language": "python",
   "name": "python3"
  },
  "language_info": {
   "codemirror_mode": {
    "name": "ipython",
    "version": 3
   },
   "file_extension": ".py",
   "mimetype": "text/x-python",
   "name": "python",
   "nbconvert_exporter": "python",
   "pygments_lexer": "ipython3",
   "version": "3.8.8"
  }
 },
 "nbformat": 4,
 "nbformat_minor": 5
}
